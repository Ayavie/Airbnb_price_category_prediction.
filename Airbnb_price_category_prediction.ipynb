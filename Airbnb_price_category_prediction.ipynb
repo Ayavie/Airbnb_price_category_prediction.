{
  "cells": [
    {
      "cell_type": "markdown",
      "metadata": {
        "id": "view-in-github",
        "colab_type": "text"
      },
      "source": [
        "<a href=\"https://colab.research.google.com/github/Ayavie/Airbnb_price_category_prediction./blob/main/Airbnb_price_category_prediction.ipynb\" target=\"_parent\"><img src=\"https://colab.research.google.com/assets/colab-badge.svg\" alt=\"Open In Colab\"/></a>"
      ]
    },
    {
      "cell_type": "markdown",
      "metadata": {
        "id": "ryxa-RTk-vlB"
      },
      "source": [
        "#✔️ Problem Formulation:\n",
        "We need to predict the price and type of an aparement/house (Target variables) of airbnb company based on its overview summary and image (Independent variables). The price is encoded into 3 classes [0,1,2] so we'll work on it with classification methods.\n",
        "In this problem we can mainly use CONVNETS for images and for the summary overview we can use sequential models like GRU and LSTMs.\n",
        "\n",
        "The challenges that would be faced could be finding the best way (Model) to deal we both images and text at the same time and of course the hyperparameter tuning.\n",
        "\n",
        "\n",
        "#✔️ Strategy used:\n",
        "\n",
        "1. Importing libraries and Investigation data\n",
        "2. Building a model with CONV Nets\n",
        "3. tune the previous model\n",
        "4. GRU Model\n",
        "4. LSTM Model\n",
        "5. Bidirectional LSTMs Model\n",
        "6. Work with RGB images instead of grayscale and implement multi-task by predicting both target variables.\n",
        "**Note:** Multi-modality is used in all the trials and dropout is used in multiple models."
      ]
    },
    {
      "cell_type": "code",
      "execution_count": null,
      "metadata": {
        "colab": {
          "base_uri": "https://localhost:8080/"
        },
        "id": "Lt7Bo8KMpvZE",
        "outputId": "28b16641-09ec-4ab6-e8c3-38089fa1d6ae"
      },
      "outputs": [
        {
          "output_type": "stream",
          "name": "stdout",
          "text": [
            "Downloading cisc-873-dm-f22-a4.zip to /content\n",
            " 99% 597M/604M [00:05<00:00, 122MB/s]\n",
            "100% 604M/604M [00:05<00:00, 107MB/s]\n"
          ]
        }
      ],
      "source": [
        "! mkdir ~/.kaggle\n",
        "! cp kaggle.json ~/.kaggle/\n",
        "! chmod 600 ~/.kaggle/kaggle.json\n",
        "! kaggle competitions download -c cisc-873-dm-f22-a4\n",
        "! unzip -q cisc-873-dm-f22-a4.zip"
      ]
    },
    {
      "cell_type": "markdown",
      "metadata": {
        "id": "a2f51fd4"
      },
      "source": [
        "# Importing libraries and investigating data"
      ]
    },
    {
      "cell_type": "code",
      "execution_count": null,
      "metadata": {
        "id": "62746468"
      },
      "outputs": [],
      "source": [
        "import os\n",
        "import pandas as pd\n",
        "from tqdm.notebook import tqdm\n",
        "from PIL import Image\n",
        "import pandas as pd\n",
        "import os\n",
        "import numpy as np\n",
        "from ast import literal_eval"
      ]
    },
    {
      "cell_type": "code",
      "execution_count": null,
      "metadata": {
        "id": "c190e6da"
      },
      "outputs": [],
      "source": [
        "#Reading data\n",
        "df=pd.read_csv('/content/a4/train_xy.csv')\n",
        "df_test=pd.read_csv('/content/a4/test_x.csv')"
      ]
    },
    {
      "cell_type": "code",
      "execution_count": null,
      "metadata": {
        "colab": {
          "base_uri": "https://localhost:8080/",
          "height": 206
        },
        "id": "20334d42",
        "outputId": "61a4a038-784e-477e-aee4-c9d227798824",
        "scrolled": true
      },
      "outputs": [
        {
          "output_type": "execute_result",
          "data": {
            "text/plain": [
              "                                             summary            image  \\\n",
              "0  Spacious, sunny and cozy modern apartment in t...  img_train/0.jpg   \n",
              "1  Located in one of the most vibrant and accessi...  img_train/1.jpg   \n",
              "2  Logement coquet et douillet à 10 minutes du ce...  img_train/2.jpg   \n",
              "3  Beautiful and spacious (1076 sc ft, / 100 mc) ...  img_train/3.jpg   \n",
              "4  Très grand appartement ''rustique'' et très ag...  img_train/4.jpg   \n",
              "\n",
              "        type  price  \n",
              "0  Apartment      1  \n",
              "1  Apartment      0  \n",
              "2  Apartment      1  \n",
              "3  Apartment      1  \n",
              "4  Apartment      0  "
            ],
            "text/html": [
              "\n",
              "  <div id=\"df-3e7bf53b-296b-47fb-a44d-4be62bdd2b08\">\n",
              "    <div class=\"colab-df-container\">\n",
              "      <div>\n",
              "<style scoped>\n",
              "    .dataframe tbody tr th:only-of-type {\n",
              "        vertical-align: middle;\n",
              "    }\n",
              "\n",
              "    .dataframe tbody tr th {\n",
              "        vertical-align: top;\n",
              "    }\n",
              "\n",
              "    .dataframe thead th {\n",
              "        text-align: right;\n",
              "    }\n",
              "</style>\n",
              "<table border=\"1\" class=\"dataframe\">\n",
              "  <thead>\n",
              "    <tr style=\"text-align: right;\">\n",
              "      <th></th>\n",
              "      <th>summary</th>\n",
              "      <th>image</th>\n",
              "      <th>type</th>\n",
              "      <th>price</th>\n",
              "    </tr>\n",
              "  </thead>\n",
              "  <tbody>\n",
              "    <tr>\n",
              "      <th>0</th>\n",
              "      <td>Spacious, sunny and cozy modern apartment in t...</td>\n",
              "      <td>img_train/0.jpg</td>\n",
              "      <td>Apartment</td>\n",
              "      <td>1</td>\n",
              "    </tr>\n",
              "    <tr>\n",
              "      <th>1</th>\n",
              "      <td>Located in one of the most vibrant and accessi...</td>\n",
              "      <td>img_train/1.jpg</td>\n",
              "      <td>Apartment</td>\n",
              "      <td>0</td>\n",
              "    </tr>\n",
              "    <tr>\n",
              "      <th>2</th>\n",
              "      <td>Logement coquet et douillet à 10 minutes du ce...</td>\n",
              "      <td>img_train/2.jpg</td>\n",
              "      <td>Apartment</td>\n",
              "      <td>1</td>\n",
              "    </tr>\n",
              "    <tr>\n",
              "      <th>3</th>\n",
              "      <td>Beautiful and spacious (1076 sc ft, / 100 mc) ...</td>\n",
              "      <td>img_train/3.jpg</td>\n",
              "      <td>Apartment</td>\n",
              "      <td>1</td>\n",
              "    </tr>\n",
              "    <tr>\n",
              "      <th>4</th>\n",
              "      <td>Très grand appartement ''rustique'' et très ag...</td>\n",
              "      <td>img_train/4.jpg</td>\n",
              "      <td>Apartment</td>\n",
              "      <td>0</td>\n",
              "    </tr>\n",
              "  </tbody>\n",
              "</table>\n",
              "</div>\n",
              "      <button class=\"colab-df-convert\" onclick=\"convertToInteractive('df-3e7bf53b-296b-47fb-a44d-4be62bdd2b08')\"\n",
              "              title=\"Convert this dataframe to an interactive table.\"\n",
              "              style=\"display:none;\">\n",
              "        \n",
              "  <svg xmlns=\"http://www.w3.org/2000/svg\" height=\"24px\"viewBox=\"0 0 24 24\"\n",
              "       width=\"24px\">\n",
              "    <path d=\"M0 0h24v24H0V0z\" fill=\"none\"/>\n",
              "    <path d=\"M18.56 5.44l.94 2.06.94-2.06 2.06-.94-2.06-.94-.94-2.06-.94 2.06-2.06.94zm-11 1L8.5 8.5l.94-2.06 2.06-.94-2.06-.94L8.5 2.5l-.94 2.06-2.06.94zm10 10l.94 2.06.94-2.06 2.06-.94-2.06-.94-.94-2.06-.94 2.06-2.06.94z\"/><path d=\"M17.41 7.96l-1.37-1.37c-.4-.4-.92-.59-1.43-.59-.52 0-1.04.2-1.43.59L10.3 9.45l-7.72 7.72c-.78.78-.78 2.05 0 2.83L4 21.41c.39.39.9.59 1.41.59.51 0 1.02-.2 1.41-.59l7.78-7.78 2.81-2.81c.8-.78.8-2.07 0-2.86zM5.41 20L4 18.59l7.72-7.72 1.47 1.35L5.41 20z\"/>\n",
              "  </svg>\n",
              "      </button>\n",
              "      \n",
              "  <style>\n",
              "    .colab-df-container {\n",
              "      display:flex;\n",
              "      flex-wrap:wrap;\n",
              "      gap: 12px;\n",
              "    }\n",
              "\n",
              "    .colab-df-convert {\n",
              "      background-color: #E8F0FE;\n",
              "      border: none;\n",
              "      border-radius: 50%;\n",
              "      cursor: pointer;\n",
              "      display: none;\n",
              "      fill: #1967D2;\n",
              "      height: 32px;\n",
              "      padding: 0 0 0 0;\n",
              "      width: 32px;\n",
              "    }\n",
              "\n",
              "    .colab-df-convert:hover {\n",
              "      background-color: #E2EBFA;\n",
              "      box-shadow: 0px 1px 2px rgba(60, 64, 67, 0.3), 0px 1px 3px 1px rgba(60, 64, 67, 0.15);\n",
              "      fill: #174EA6;\n",
              "    }\n",
              "\n",
              "    [theme=dark] .colab-df-convert {\n",
              "      background-color: #3B4455;\n",
              "      fill: #D2E3FC;\n",
              "    }\n",
              "\n",
              "    [theme=dark] .colab-df-convert:hover {\n",
              "      background-color: #434B5C;\n",
              "      box-shadow: 0px 1px 3px 1px rgba(0, 0, 0, 0.15);\n",
              "      filter: drop-shadow(0px 1px 2px rgba(0, 0, 0, 0.3));\n",
              "      fill: #FFFFFF;\n",
              "    }\n",
              "  </style>\n",
              "\n",
              "      <script>\n",
              "        const buttonEl =\n",
              "          document.querySelector('#df-3e7bf53b-296b-47fb-a44d-4be62bdd2b08 button.colab-df-convert');\n",
              "        buttonEl.style.display =\n",
              "          google.colab.kernel.accessAllowed ? 'block' : 'none';\n",
              "\n",
              "        async function convertToInteractive(key) {\n",
              "          const element = document.querySelector('#df-3e7bf53b-296b-47fb-a44d-4be62bdd2b08');\n",
              "          const dataTable =\n",
              "            await google.colab.kernel.invokeFunction('convertToInteractive',\n",
              "                                                     [key], {});\n",
              "          if (!dataTable) return;\n",
              "\n",
              "          const docLinkHtml = 'Like what you see? Visit the ' +\n",
              "            '<a target=\"_blank\" href=https://colab.research.google.com/notebooks/data_table.ipynb>data table notebook</a>'\n",
              "            + ' to learn more about interactive tables.';\n",
              "          element.innerHTML = '';\n",
              "          dataTable['output_type'] = 'display_data';\n",
              "          await google.colab.output.renderOutput(dataTable, element);\n",
              "          const docLink = document.createElement('div');\n",
              "          docLink.innerHTML = docLinkHtml;\n",
              "          element.appendChild(docLink);\n",
              "        }\n",
              "      </script>\n",
              "    </div>\n",
              "  </div>\n",
              "  "
            ]
          },
          "metadata": {},
          "execution_count": 4
        }
      ],
      "source": [
        "#Printing few lines of the data\n",
        "df.head(5)"
      ]
    },
    {
      "cell_type": "code",
      "execution_count": null,
      "metadata": {
        "colab": {
          "base_uri": "https://localhost:8080/"
        },
        "id": "6b29ff1b",
        "outputId": "ca2bc1e8-cecb-4dcf-c463-c5a0fb82d3aa"
      },
      "outputs": [
        {
          "output_type": "execute_result",
          "data": {
            "text/plain": [
              "(7627, 4)"
            ]
          },
          "metadata": {},
          "execution_count": 5
        }
      ],
      "source": [
        "# Print dataframe size \n",
        "df.shape"
      ]
    },
    {
      "cell_type": "code",
      "execution_count": null,
      "metadata": {
        "colab": {
          "base_uri": "https://localhost:8080/"
        },
        "id": "5cd1c130",
        "outputId": "40332344-fa13-4f42-95c8-ccc3990c2cca"
      },
      "outputs": [
        {
          "output_type": "execute_result",
          "data": {
            "text/plain": [
              "summary    301\n",
              "image        0\n",
              "type         0\n",
              "price        0\n",
              "dtype: int64"
            ]
          },
          "metadata": {},
          "execution_count": 6
        }
      ],
      "source": [
        "#Checking for nans \n",
        "df.isna().sum()"
      ]
    },
    {
      "cell_type": "code",
      "execution_count": null,
      "metadata": {
        "colab": {
          "base_uri": "https://localhost:8080/"
        },
        "id": "loUKSYrBe03f",
        "outputId": "c87fe61a-9ef7-4e9b-bf4a-a197446ed640"
      },
      "outputs": [
        {
          "output_type": "execute_result",
          "data": {
            "text/plain": [
              "0"
            ]
          },
          "metadata": {},
          "execution_count": 7
        }
      ],
      "source": [
        "#Checking for duplicates\n",
        "df.duplicated().sum()"
      ]
    },
    {
      "cell_type": "markdown",
      "metadata": {
        "id": "02e2a507"
      },
      "source": [
        "# Data Preprocessing"
      ]
    },
    {
      "cell_type": "markdown",
      "metadata": {
        "id": "01ca8a65"
      },
      "source": [
        "First, let's encode the 'type' column."
      ]
    },
    {
      "cell_type": "code",
      "execution_count": null,
      "metadata": {
        "colab": {
          "base_uri": "https://localhost:8080/"
        },
        "id": "f2c497a2",
        "outputId": "5272d5b4-8d96-49a7-a777-86cca1e2e0c3"
      },
      "outputs": [
        {
          "output_type": "stream",
          "name": "stdout",
          "text": [
            "24\n",
            "3\n"
          ]
        }
      ],
      "source": [
        "df['type']=df['type'].astype('category').cat.codes\n",
        "\n",
        "# Get number of unique values on target variables 'type' and 'price'\n",
        "\n",
        "len_type=df['type'].nunique()\n",
        "len_price=df.price.nunique()\n",
        "\n",
        "print (len_type)\n",
        "print (len_price)"
      ]
    },
    {
      "cell_type": "code",
      "execution_count": null,
      "metadata": {
        "colab": {
          "base_uri": "https://localhost:8080/"
        },
        "id": "eU_1gFPDypcS",
        "outputId": "175dc55b-7eaa-4f33-98b2-d036c1f9457c"
      },
      "outputs": [
        {
          "output_type": "execute_result",
          "data": {
            "text/plain": [
              "0        1\n",
              "1        1\n",
              "2        1\n",
              "3        1\n",
              "4        1\n",
              "        ..\n",
              "7622     1\n",
              "7623     1\n",
              "7624     1\n",
              "7625     1\n",
              "7626    17\n",
              "Name: type, Length: 7627, dtype: int8"
            ]
          },
          "metadata": {},
          "execution_count": 9
        }
      ],
      "source": [
        "df['type']"
      ]
    },
    {
      "cell_type": "markdown",
      "metadata": {
        "id": "826936db"
      },
      "source": [
        "Since we have text and image files we'll have different preprocessing for each.\n",
        "\n",
        "\n",
        "**Image data:** Resize\n",
        "\n",
        "**Text data:** Tokenization and convert to integer IDs"
      ]
    },
    {
      "cell_type": "code",
      "execution_count": null,
      "metadata": {
        "colab": {
          "base_uri": "https://localhost:8080/",
          "height": 49,
          "referenced_widgets": [
            "78cab12dcd0a4866872573c31a4915eb",
            "677e4f4df70d4d5dbe26a15ac6d760a2",
            "620258d17cc5489382bc487bddf40965",
            "da81116ce020436fa92c5a3d0f195358",
            "6334a90ab62d4c06ace25cff8f1efeca",
            "8e3c349e94cc4cabbf187f37d80bc268",
            "8d0bda60f40e41f0aa9469e6346886fb",
            "f5e35c3470c446429fd4f7c460d16e16",
            "15c7d485907c42dd95020ba4485ab2ac",
            "b6f3503bc19e401fa02d2cbc403c5f54",
            "f90f605891d34fc5b819fd3ff40c7c11"
          ]
        },
        "id": "25a62753",
        "outputId": "68acc2ae-a4c7-424d-b688-f06841d84da6"
      },
      "outputs": [
        {
          "output_type": "display_data",
          "data": {
            "text/plain": [
              "  0%|          | 0/7627 [00:00<?, ?it/s]"
            ],
            "application/vnd.jupyter.widget-view+json": {
              "version_major": 2,
              "version_minor": 0,
              "model_id": "78cab12dcd0a4866872573c31a4915eb"
            }
          },
          "metadata": {}
        }
      ],
      "source": [
        "# preprocess image data\n",
        "import os\n",
        "#'/content/a4/img_train/100.jpg'\n",
        "def load_image(file):\n",
        "    try:\n",
        "        image = Image.open(\n",
        "            file\n",
        "        ).convert('LA').resize((64, 64))\n",
        "        arr = np.array(image)\n",
        "    except:\n",
        "        arr = np.zeros((64, 64, 2))\n",
        "    return arr\n",
        "\n",
        "\n",
        "# loading images:\n",
        "x_train_image = np.array([load_image(i) for i in tqdm('/content/a4/'+df.image)])\n",
        "\n",
        "# loading overview: (force convert some of the non-string cell to string)\n",
        "x_train_text = df.summary.astype('str')\n",
        "\n",
        "# get type\n",
        "y_train_type = df['type']\n",
        "\n",
        "# get language\n",
        "y_train_price = df.price"
      ]
    },
    {
      "cell_type": "code",
      "execution_count": null,
      "metadata": {
        "colab": {
          "base_uri": "https://localhost:8080/"
        },
        "id": "4UKV2eStySmz",
        "outputId": "37a9d149-c19d-4c7b-a6fc-22b6c591134b"
      },
      "outputs": [
        {
          "output_type": "execute_result",
          "data": {
            "text/plain": [
              "array([ 1, 17, 22, 10, 18, 20,  5,  2,  8,  4, 23, 13, 15, 16, 14, 11, 19,\n",
              "        0, 21,  3,  6, 12,  7,  9], dtype=int8)"
            ]
          },
          "metadata": {},
          "execution_count": 11
        }
      ],
      "source": [
        "y_train_type.unique()"
      ]
    },
    {
      "cell_type": "code",
      "execution_count": null,
      "metadata": {
        "colab": {
          "base_uri": "https://localhost:8080/",
          "height": 268
        },
        "id": "d577db7c",
        "outputId": "3f2b271e-21ed-428a-9e24-7f75249025ee",
        "scrolled": true
      },
      "outputs": [
        {
          "output_type": "display_data",
          "data": {
            "text/plain": [
              "<Figure size 432x288 with 1 Axes>"
            ],
            "image/png": "[encoded data removed]"
          },
          "metadata": {
            "needs_background": "light"
          }
        }
      ],
      "source": [
        "# check image loading\n",
        "import matplotlib.pyplot as plt\n",
        "plt.imshow(x_train_image[0, :, :, 0],cmap='gray');\n",
        "#[no of images,rows,columns,channels]"
      ]
    },
    {
      "cell_type": "code",
      "execution_count": null,
      "metadata": {
        "colab": {
          "base_uri": "https://localhost:8080/"
        },
        "id": "7116219c",
        "outputId": "023f7b35-4128-4478-9671-599e3c8a4883"
      },
      "outputs": [
        {
          "output_type": "stream",
          "name": "stdout",
          "text": [
            "(7627, 100)\n"
          ]
        }
      ],
      "source": [
        "# preprocess text data\n",
        "\n",
        "import tensorflow as tf\n",
        "tf.random.set_seed(1234)\n",
        "from tensorflow.keras.preprocessing.text import Tokenizer\n",
        "from tensorflow.keras.preprocessing.sequence import pad_sequences\n",
        "from sklearn.model_selection import train_test_split\n",
        "from pprint import pprint\n",
        "\n",
        "vocab_size = 40000\n",
        "max_len = 100\n",
        "\n",
        "\n",
        "# build vocabulary from training set\n",
        "tokenizer = Tokenizer(num_words=vocab_size)\n",
        "tokenizer.fit_on_texts(x_train_text)\n",
        "\n",
        "\n",
        "def _preprocess(list_of_text):\n",
        "    return pad_sequences(\n",
        "        tokenizer.texts_to_sequences(list_of_text),\n",
        "        maxlen=max_len,\n",
        "        padding='post',\n",
        "    )\n",
        "    \n",
        "#x_vl_text_id = _preprocess(x_vl_text)\n",
        "# padding is done inside: \n",
        "x_train_text_id = _preprocess(x_train_text)\n",
        "\n",
        "print(x_train_text_id.shape)"
      ]
    },
    {
      "cell_type": "code",
      "execution_count": null,
      "metadata": {
        "colab": {
          "base_uri": "https://localhost:8080/"
        },
        "id": "f0052717",
        "outputId": "c75d4cfa-5570-423c-bc36-84dbe07f5293"
      },
      "outputs": [
        {
          "output_type": "stream",
          "name": "stdout",
          "text": [
            "['spacious sunny and cozy modern apartment in the heart of montreal this 3 '\n",
            " 'bedroom centrally located in the very popular plateau mont royal '\n",
            " 'neighborhood in the middle of prince arthur pedestrian only street close to '\n",
            " 'all amenities restaurants coffee house bars clubs shopping universities '\n",
            " 'subway stations experience montreal like a real local resident be in the '\n",
            " 'heart of the action grand prix week grill saint laurent festival mural 2019 '\n",
            " 'and so much more',\n",
            " 'located in one of the most vibrant and accessible locations of downtown '\n",
            " 'montreal this one bedroom condo will not only impress you but leave you with '\n",
            " 'one of the most memorable experiences it is walking distance of the popular '\n",
            " 'sainte catherine street the bell center the old port lachine canal '\n",
            " 'bonaventure metro and much much more',\n",
            " 'logement coquet et douillet à 10 minutes du centre ville de montréal '\n",
            " 'épicerie pharmacie saq restaurants et transports en communs à proximité deux '\n",
            " 'chambres fermées pouvant accueillir 4 adultes',\n",
            " 'beautiful and spacious 1076 sc ft 100 mc condo on the 1th floor in the west '\n",
            " 'island of montreal located in a quiet residential area near a number of '\n",
            " 'superb green spaces 3 min car from highways 13 40 7 min from le marché de '\n",
            " \"l'ouest 15 min from the airport 6 min walk from sunnybrooke train station \"\n",
            " 'that goes downtown mtl in 20 min and is close to the beautiful nature park '\n",
            " 'bois de liesse walk and bike paths in summer and snowshoe and cross country '\n",
            " 'skiing paths in winter',\n",
            " \"très grand appartement ''rustique'' et très agréable a vivre à louer dans un \"\n",
            " 'quartier sympa de montréal une grande chambre au sous sol et au rez de '\n",
            " 'chaussée il y a une chambre une grande cuisine salle à manger et un grand '\n",
            " 'salon double la cuisine offre de nombreuses machines comme un mixeur un '\n",
            " 'robot ménager une cafetière une machine a panini une machine a gaufre très '\n",
            " 'proche du du bord du fleuve et du centre ville de verdun et de montréal à '\n",
            " 'pied en métro vélo ou autobus']\n"
          ]
        }
      ],
      "source": [
        "# we can use the tokenizer to convert IDs to words.\n",
        "pprint(tokenizer.sequences_to_texts(x_train_text_id[:5]))"
      ]
    },
    {
      "cell_type": "code",
      "execution_count": null,
      "metadata": {
        "colab": {
          "base_uri": "https://localhost:8080/"
        },
        "id": "fb5b575c",
        "outputId": "c911342c-b72f-46d8-fb9e-5e9a0c75d026"
      },
      "outputs": [
        {
          "output_type": "stream",
          "name": "stdout",
          "text": [
            "total words in the dictionary: 40000\n"
          ]
        }
      ],
      "source": [
        "print('total words in the dictionary:', tokenizer.num_words)"
      ]
    },
    {
      "cell_type": "markdown",
      "metadata": {
        "id": "f6b2fe55"
      },
      "source": [
        "# Building a Learning model"
      ]
    },
    {
      "cell_type": "code",
      "execution_count": null,
      "metadata": {
        "colab": {
          "base_uri": "https://localhost:8080/"
        },
        "id": "0a2bac5a",
        "outputId": "5e0b39ab-6275-47d1-841c-278859a47819"
      },
      "outputs": [
        {
          "output_type": "stream",
          "name": "stdout",
          "text": [
            "Model: \"model_3\"\n",
            "__________________________________________________________________________________________________\n",
            " Layer (type)                   Output Shape         Param #     Connected to                     \n",
            "==================================================================================================\n",
            " input_8 (InputLayer)           [(None, 64, 64, 2)]  0           []                               \n",
            "                                                                                                  \n",
            " input_7 (InputLayer)           [(None, 100)]        0           []                               \n",
            "                                                                                                  \n",
            " conv2d_3 (Conv2D)              (None, 49, 49, 64)   32832       ['input_8[0][0]']                \n",
            "                                                                                                  \n",
            " embedding_3 (Embedding)        (None, 100, 100)     4000000     ['input_7[0][0]']                \n",
            "                                                                                                  \n",
            " max_pooling2d_3 (MaxPooling2D)  (None, 3, 3, 64)    0           ['conv2d_3[0][0]']               \n",
            "                                                                                                  \n",
            " tf.math.reduce_mean_3 (TFOpLam  (None, 100)         0           ['embedding_3[0][0]']            \n",
            " bda)                                                                                             \n",
            "                                                                                                  \n",
            " flatten_3 (Flatten)            (None, 576)          0           ['max_pooling2d_3[0][0]']        \n",
            "                                                                                                  \n",
            " tf.concat_3 (TFOpLambda)       (None, 676)          0           ['tf.math.reduce_mean_3[0][0]',  \n",
            "                                                                  'flatten_3[0][0]']              \n",
            "                                                                                                  \n",
            " price (Dense)                  (None, 3)            2031        ['tf.concat_3[0][0]']            \n",
            "                                                                                                  \n",
            " type (Dense)                   (None, 24)           16248       ['tf.concat_3[0][0]']            \n",
            "                                                                                                  \n",
            "==================================================================================================\n",
            "Total params: 4,051,111\n",
            "Trainable params: 4,051,111\n",
            "Non-trainable params: 0\n",
            "__________________________________________________________________________________________________\n"
          ]
        }
      ],
      "source": [
        "from __future__ import absolute_import, division, print_function, unicode_literals\n",
        "import collections\n",
        "import matplotlib.pyplot as plt\n",
        "import numpy as np\n",
        "import tensorflow as tf\n",
        "from tensorflow import keras\n",
        "from tensorflow.keras.layers import Conv2D, Flatten, Dense, MaxPool2D\n",
        "from tensorflow.keras.optimizers import Adam,Nadam\n",
        "\n",
        "\n",
        "# here we have two inputs. one for image and the other for text.\n",
        "in_text = keras.Input(batch_shape=(None, max_len))\n",
        "in_image = keras.Input(batch_shape=(None, 64, 64, 2))\n",
        "\n",
        "# text part\n",
        "# simple average of embedding of 100 vector space\n",
        "embedded = keras.layers.Embedding(tokenizer.num_words, 100)(in_text)\n",
        "averaged = tf.reduce_mean(embedded, axis=1)\n",
        "\n",
        "\n",
        "# simple conv2d of 64 filter each of dimension 16x16\n",
        "cov = Conv2D(64, (16, 16))(in_image)\n",
        "pl = MaxPool2D((16, 16))(cov)\n",
        "flattened = Flatten()(pl)\n",
        "\n",
        "\n",
        "# fusion - combinig both\n",
        "fused = tf.concat([averaged, flattened], axis=-1)\n",
        "\n",
        "# multi-task learning (each is a multi-class classification)\n",
        "# one dense layer for each task\n",
        "p_type = Dense(len_type, activation='softmax', name='type')(fused)\n",
        "p_price = Dense(len_price, activation='softmax', name='price')(fused)\n",
        "\n",
        "\n",
        "# define model input/output using keys.\n",
        "model = keras.Model(\n",
        "    inputs={\n",
        "        'summary': in_text,\n",
        "        'image': in_image\n",
        "    },\n",
        "    outputs={\n",
        "        'type': p_type,\n",
        "        'price': p_price,\n",
        "    },\n",
        ")\n",
        "\n",
        "\n",
        "# compile model with optimizer, loss values for each task, loss \n",
        "# weights for each task.\n",
        "model.compile(\n",
        "    optimizer=Adam(),\n",
        "    loss={\n",
        "        'type': 'sparse_categorical_crossentropy',\n",
        "        'price': 'sparse_categorical_crossentropy',\n",
        "    },\n",
        "    loss_weights={\n",
        "        'type': 0.5,\n",
        "        'price': 0.5,       \n",
        "    },\n",
        "    metrics={\n",
        "        'type': ['SparseCategoricalAccuracy'],\n",
        "        'price': ['SparseCategoricalAccuracy'],\n",
        "    },\n",
        ")\n",
        "\n",
        "\n",
        "model.summary()"
      ]
    },
    {
      "cell_type": "markdown",
      "metadata": {
        "id": "UB-r6sfjBYh9"
      },
      "source": [
        "## Model Training\n"
      ]
    },
    {
      "cell_type": "code",
      "execution_count": null,
      "metadata": {
        "colab": {
          "base_uri": "https://localhost:8080/"
        },
        "id": "lyVFF4LTR1Zm",
        "outputId": "0cf681df-0fa3-4c2d-cb80-683b6cb9f2f5"
      },
      "outputs": [
        {
          "output_type": "stream",
          "name": "stdout",
          "text": [
            "Epoch 1/20\n",
            "763/763 [==============================] - 106s 137ms/step - loss: 34.9493 - price_loss: 24.9288 - type_loss: 44.9698 - price_sparse_categorical_accuracy: 0.5030 - type_sparse_categorical_accuracy: 0.5788 - val_loss: 11.1034 - val_price_loss: 6.8935 - val_type_loss: 15.3132 - val_price_sparse_categorical_accuracy: 0.5210 - val_type_sparse_categorical_accuracy: 0.7588\n",
            "Epoch 2/20\n",
            "763/763 [==============================] - 104s 137ms/step - loss: 24.4659 - price_loss: 16.9513 - type_loss: 31.9804 - price_sparse_categorical_accuracy: 0.5070 - type_sparse_categorical_accuracy: 0.5794 - val_loss: 12.5444 - val_price_loss: 9.1929 - val_type_loss: 15.8960 - val_price_sparse_categorical_accuracy: 0.5498 - val_type_sparse_categorical_accuracy: 0.6579\n",
            "Epoch 3/20\n",
            "763/763 [==============================] - 105s 138ms/step - loss: 17.3771 - price_loss: 12.9249 - type_loss: 21.8294 - price_sparse_categorical_accuracy: 0.5266 - type_sparse_categorical_accuracy: 0.5876 - val_loss: 19.8631 - val_price_loss: 13.0665 - val_type_loss: 26.6596 - val_price_sparse_categorical_accuracy: 0.4993 - val_type_sparse_categorical_accuracy: 0.7425\n",
            "Epoch 4/20\n",
            "763/763 [==============================] - 105s 138ms/step - loss: 17.1647 - price_loss: 12.3208 - type_loss: 22.0086 - price_sparse_categorical_accuracy: 0.5312 - type_sparse_categorical_accuracy: 0.5911 - val_loss: 25.1359 - val_price_loss: 19.7799 - val_type_loss: 30.4919 - val_price_sparse_categorical_accuracy: 0.4561 - val_type_sparse_categorical_accuracy: 0.4489\n",
            "Epoch 5/20\n",
            "763/763 [==============================] - 106s 139ms/step - loss: 20.1894 - price_loss: 12.9810 - type_loss: 27.3978 - price_sparse_categorical_accuracy: 0.5647 - type_sparse_categorical_accuracy: 0.5994 - val_loss: 13.5920 - val_price_loss: 9.1978 - val_type_loss: 17.9862 - val_price_sparse_categorical_accuracy: 0.5911 - val_type_sparse_categorical_accuracy: 0.7235\n",
            "Epoch 6/20\n",
            "763/763 [==============================] - 105s 138ms/step - loss: 18.6918 - price_loss: 13.1396 - type_loss: 24.2439 - price_sparse_categorical_accuracy: 0.5697 - type_sparse_categorical_accuracy: 0.6097 - val_loss: 25.6017 - val_price_loss: 9.1796 - val_type_loss: 42.0237 - val_price_sparse_categorical_accuracy: 0.5052 - val_type_sparse_categorical_accuracy: 0.4934\n"
          ]
        }
      ],
      "source": [
        "history = model.fit(\n",
        "    x={\n",
        "        'summary': x_train_text_id,\n",
        "        'image': x_train_image\n",
        "    },\n",
        "    y={\n",
        "        'type': y_train_type,\n",
        "        'price': y_train_price,\n",
        "    },\n",
        "    epochs=20,\n",
        "    batch_size=8,\n",
        "    validation_split=0.2,\n",
        "    callbacks=[\n",
        "        tf.keras.callbacks.EarlyStopping(monitor='val_price_loss', patience=5 )\n",
        "    ],\n",
        "    verbose=1\n",
        ")"
      ]
    },
    {
      "cell_type": "markdown",
      "metadata": {
        "id": "1Pa1wsZWBoFc"
      },
      "source": [
        "## Data Preprocessing (Testing)\n",
        "\n",
        "Here we use the trained tokenizer to pre-process the testing set."
      ]
    },
    {
      "cell_type": "code",
      "execution_count": null,
      "metadata": {
        "colab": {
          "base_uri": "https://localhost:8080/",
          "height": 49,
          "referenced_widgets": [
            "c6c06aa3378c477d98cc56e0c9724632",
            "fe201556269c4c7a85c70ab1886c9495",
            "378b4e04c9e743a5a5db99c353e23ad4",
            "908ee1d8377d4287902de7cd7a192c26",
            "44399a4b4ae54387a56106d8abd5219c",
            "4f3928cb121a46068e893924a3a0e7d4",
            "f4b030873e524fb5a29f057856c4b0b8",
            "414a658b55884dea815c78b8b8e179ca",
            "1859628d19c54b4589352ab3303ce3e2",
            "37be9f74640140c692aa8ce184728353",
            "4ec8c641e9314a698e408fffc887e931"
          ]
        },
        "id": "6fxoXMDER1Zm",
        "outputId": "f94d7a0e-332c-48b2-b323-3ad5d77b8f7f"
      },
      "outputs": [
        {
          "output_type": "display_data",
          "data": {
            "text/plain": [
              "  0%|          | 0/7360 [00:00<?, ?it/s]"
            ],
            "application/vnd.jupyter.widget-view+json": {
              "version_major": 2,
              "version_minor": 0,
              "model_id": "c6c06aa3378c477d98cc56e0c9724632"
            }
          },
          "metadata": {}
        }
      ],
      "source": [
        "# loading images:\n",
        "x_test_image = np.array([load_image(i) for i in tqdm('/content/a4/img_test'+df_test.image)])\n",
        "\n",
        "# loading overview: (force convert some of the non-string cell to string)\n",
        "x_test_text = _preprocess(df_test.summary.astype('str'))"
      ]
    },
    {
      "cell_type": "markdown",
      "metadata": {
        "id": "FdVbNitNBynm"
      },
      "source": [
        "## Predition\n",
        "\n",
        "We can use the model to predict the testing samples."
      ]
    },
    {
      "cell_type": "code",
      "execution_count": null,
      "metadata": {
        "colab": {
          "base_uri": "https://localhost:8080/"
        },
        "id": "ZoqKB--AZYgc",
        "outputId": "d2a0dfe8-ee03-490d-9c51-5db26fe246c4"
      },
      "outputs": [
        {
          "output_type": "stream",
          "name": "stdout",
          "text": [
            "[[9.9998534e-01 1.2281947e-05 2.3399277e-06]\n",
            " [9.9999988e-01 6.7015804e-08 4.3859996e-09]\n",
            " [9.9999547e-01 3.9835127e-06 5.5218032e-07]\n",
            " ...\n",
            " [9.9999011e-01 9.1166512e-06 8.1292166e-07]\n",
            " [9.9999917e-01 5.7448830e-07 2.0731281e-07]\n",
            " [9.8818654e-01 1.0353884e-02 1.4595252e-03]]\n",
            "[0 0 0 ... 0 0 0]\n",
            "[[4.9345155e-05 9.6392715e-01 7.3831617e-03 ... 1.0564625e-03\n",
            "  8.4778474e-04 1.5745675e-03]\n",
            " [1.6645218e-07 9.9907148e-01 3.2894753e-04 ... 1.8463170e-05\n",
            "  1.1124245e-05 3.1386699e-05]\n",
            " [1.3912692e-05 9.8311317e-01 4.1191201e-03 ... 4.3900666e-04\n",
            "  3.2544110e-04 7.0028234e-04]\n",
            " ...\n",
            " [7.8321564e-06 9.9026674e-01 2.4510575e-03 ... 2.6638573e-04\n",
            "  1.6752660e-04 4.3527939e-04]\n",
            " [3.8493730e-05 9.5760429e-01 8.9410516e-03 ... 1.0536334e-03\n",
            "  1.0674949e-03 1.5115512e-03]\n",
            " [5.1659008e-04 9.1550326e-01 9.8935943e-03 ... 3.6222304e-03\n",
            "  2.4211768e-03 4.5992858e-03]]\n",
            "[1 1 1 ... 1 1 1]\n"
          ]
        }
      ],
      "source": [
        "# Predition\n",
        "# we can do prediction on training set\n",
        "y_predict = model.predict(\n",
        "    {\n",
        "        'summary': x_test_text,\n",
        "        'image': x_test_image\n",
        "    }\n",
        ")\n",
        "\n",
        "\n",
        "# probabilities\n",
        "price_predicted = y_predict['price']\n",
        "print(price_predicted)\n",
        "\n",
        "# categories\n",
        "price_category_predicted = np.argmax(price_predicted, axis=1)\n",
        "print(price_category_predicted)\n",
        "\n",
        "\n",
        "# probabilities\n",
        "type_predicted = y_predict['type']\n",
        "print(type_predicted)\n",
        "\n",
        "# categories\n",
        "type_category_predicted = np.argmax(type_predicted, axis=1)\n",
        "print(type_category_predicted)"
      ]
    },
    {
      "cell_type": "code",
      "execution_count": null,
      "metadata": {
        "id": "eHUXFXX5R1Zm"
      },
      "outputs": [],
      "source": [
        "# Submission file\n",
        "pd.DataFrame(\n",
        "    {'id': df_test.id,\n",
        "     'price': price_category_predicted}\n",
        ").to_csv('sample_submission_org.csv', index=False)"
      ]
    },
    {
      "cell_type": "markdown",
      "metadata": {
        "id": "ERdmnYQDqOyY"
      },
      "source": [
        "##Observation 1:\n",
        "The model got 0.67472 testing accuracy.\n",
        "\n",
        "The same model was tried with Nadam optimizer and got testing accuracy:  0.65027\n"
      ]
    },
    {
      "cell_type": "markdown",
      "metadata": {
        "id": "i_gZ9z6aQLGC"
      },
      "source": [
        "# Building Another Learning Model with conv layer of more filters\n",
        "**Expecation**: Adding more filters makes the model able to extract more features and end up with better accuracy!"
      ]
    },
    {
      "cell_type": "code",
      "execution_count": null,
      "metadata": {
        "id": "bxwr9-DiQLGC"
      },
      "outputs": [],
      "source": [
        "# here we have two inputs. one for image and the other for text.\n",
        "in_text = keras.Input(batch_shape=(None, max_len))\n",
        "in_image = keras.Input(batch_shape=(None, 64, 64, 2))\n",
        "\n",
        "# text part\n",
        "# simple average of embedding. you can change it to anything else as needed\n",
        "embedded = keras.layers.Embedding(tokenizer.num_words, 100)(in_text)\n",
        "averaged = tf.reduce_mean(embedded, axis=1)\n",
        "\n",
        "\n",
        "# image part \n",
        "#simple conv2d of 256 filter each of dimension 16x16\n",
        "cov = Conv2D(256, (16, 16))(in_image)\n",
        "pl = MaxPool2D((16, 16))(cov)\n",
        "\n",
        "flattened = Flatten()(pl)\n",
        "\n",
        "\n",
        "# fusion - combinig both\n",
        "fused = tf.concat([averaged, flattened], axis=-1)\n",
        "\n",
        "# multi-task learning (each is a multi-class classification)\n",
        "# one dense layer for each task\n",
        "p_type = Dense(len_type, activation='softmax', name='type')(fused)\n",
        "p_price = Dense(len_price, activation='softmax', name='price')(fused)\n",
        "\n",
        "\n",
        "# define model input/output using keys.\n",
        "model = keras.Model(\n",
        "    inputs={\n",
        "        'summary': in_text,\n",
        "        'image': in_image\n",
        "    },\n",
        "    outputs={\n",
        "        'type': p_type,\n",
        "        'price': p_price,\n",
        "    },\n",
        ")\n",
        "\n",
        "\n",
        "# compile model with optimizer, loss values for each task, loss \n",
        "# weights for each task.\n",
        "model.compile(\n",
        "    optimizer=Adam(),\n",
        "    loss={\n",
        "        'type': 'sparse_categorical_crossentropy',\n",
        "        'price': 'sparse_categorical_crossentropy',\n",
        "    },\n",
        "    loss_weights={\n",
        "        'type': 0.5,\n",
        "        'price': 0.5,       \n",
        "    },\n",
        "    metrics={\n",
        "        'type': ['SparseCategoricalAccuracy'],\n",
        "        'price': ['SparseCategoricalAccuracy'],\n",
        "    },\n",
        ")\n",
        "\n",
        "\n",
        "model.summary()"
      ]
    },
    {
      "cell_type": "markdown",
      "metadata": {
        "id": "2SCgS-e8QLGE"
      },
      "source": [
        "## Model Training\n",
        "\n",
        "Based on the training/validation performance, you can adjust the epochs to be trained. Early stoping is watching the validation loss on price prediction (assuming that it is the main task we would like to perform)"
      ]
    },
    {
      "cell_type": "code",
      "execution_count": null,
      "metadata": {
        "colab": {
          "base_uri": "https://localhost:8080/"
        },
        "id": "FOf7I4nqQLGE",
        "outputId": "d29db44a-3eda-4450-9b4b-cb8ca7ed116f"
      },
      "outputs": [
        {
          "output_type": "stream",
          "name": "stdout",
          "text": [
            "Epoch 1/20\n",
            "382/382 [==============================] - 194s 506ms/step - loss: 107.9382 - price_loss: 66.6303 - type_loss: 149.2462 - price_sparse_categorical_accuracy: 0.4970 - type_sparse_categorical_accuracy: 0.5727 - val_loss: 29.3927 - val_price_loss: 12.8829 - val_type_loss: 45.9026 - val_price_sparse_categorical_accuracy: 0.5216 - val_type_sparse_categorical_accuracy: 0.7366\n",
            "Epoch 2/20\n",
            "382/382 [==============================] - 192s 502ms/step - loss: 89.6745 - price_loss: 54.3005 - type_loss: 125.0486 - price_sparse_categorical_accuracy: 0.5002 - type_sparse_categorical_accuracy: 0.5750 - val_loss: 59.4388 - val_price_loss: 40.2523 - val_type_loss: 78.6253 - val_price_sparse_categorical_accuracy: 0.6252 - val_type_sparse_categorical_accuracy: 0.7608\n",
            "Epoch 3/20\n",
            "382/382 [==============================] - 191s 500ms/step - loss: 91.9172 - price_loss: 51.0369 - type_loss: 132.7975 - price_sparse_categorical_accuracy: 0.5206 - type_sparse_categorical_accuracy: 0.5822 - val_loss: 202.1876 - val_price_loss: 157.1032 - val_type_loss: 247.2718 - val_price_sparse_categorical_accuracy: 0.6252 - val_type_sparse_categorical_accuracy: 0.7477\n",
            "Epoch 4/20\n",
            "382/382 [==============================] - 190s 498ms/step - loss: 96.1666 - price_loss: 50.4950 - type_loss: 141.8383 - price_sparse_categorical_accuracy: 0.5270 - type_sparse_categorical_accuracy: 0.5922 - val_loss: 211.4709 - val_price_loss: 144.9449 - val_type_loss: 277.9967 - val_price_sparse_categorical_accuracy: 0.6212 - val_type_sparse_categorical_accuracy: 0.4384\n",
            "Epoch 5/20\n",
            "382/382 [==============================] - 191s 500ms/step - loss: 106.3834 - price_loss: 58.7270 - type_loss: 154.0400 - price_sparse_categorical_accuracy: 0.5275 - type_sparse_categorical_accuracy: 0.5917 - val_loss: 95.1281 - val_price_loss: 40.8012 - val_type_loss: 149.4552 - val_price_sparse_categorical_accuracy: 0.5826 - val_type_sparse_categorical_accuracy: 0.1907\n",
            "Epoch 6/20\n",
            "382/382 [==============================] - 191s 500ms/step - loss: 36.6354 - price_loss: 18.6937 - type_loss: 54.5771 - price_sparse_categorical_accuracy: 0.5563 - type_sparse_categorical_accuracy: 0.6160 - val_loss: 59.2116 - val_price_loss: 14.5628 - val_type_loss: 103.8604 - val_price_sparse_categorical_accuracy: 0.6081 - val_type_sparse_categorical_accuracy: 0.7621\n"
          ]
        }
      ],
      "source": [
        "history = model.fit(\n",
        "    x={\n",
        "        'summary': x_train_text_id,\n",
        "        'image': x_train_image\n",
        "    },\n",
        "    y={\n",
        "        'type': y_train_type,\n",
        "        'price': y_train_price,\n",
        "    },\n",
        "    epochs=20,\n",
        "    batch_size=16,\n",
        "    validation_split=0.2,\n",
        "    callbacks=[\n",
        "        tf.keras.callbacks.EarlyStopping(monitor='val_price_loss', patience=5 )\n",
        "    ],\n",
        "    verbose=1\n",
        ")"
      ]
    },
    {
      "cell_type": "markdown",
      "metadata": {
        "id": "s1e4LC3FQLGF"
      },
      "source": [
        "## Predition\n",
        "\n",
        "We can use the model to predict the testing samples."
      ]
    },
    {
      "cell_type": "code",
      "execution_count": null,
      "metadata": {
        "id": "4tpT8B_sQLGF"
      },
      "outputs": [],
      "source": [
        "# Predition\n",
        "# we can do prediction on training set\n",
        "y_predict = model.predict(\n",
        "    {\n",
        "        'summary': x_test_text,\n",
        "        'image': x_test_image\n",
        "    }\n",
        ")\n",
        "\n",
        "\n",
        "# probabilities\n",
        "price_predicted = y_predict['price']\n",
        "print(price_predicted)\n",
        "\n",
        "# categories\n",
        "price_category_predicted = np.argmax(price_predicted, axis=1)\n",
        "print(price_category_predicted)\n",
        "\n",
        "\n",
        "# probabilities\n",
        "type_predicted = y_predict['type']\n",
        "print(type_predicted)\n",
        "\n",
        "# categories\n",
        "type_category_predicted = np.argmax(type_predicted, axis=1)\n",
        "print(type_category_predicted)"
      ]
    },
    {
      "cell_type": "code",
      "execution_count": null,
      "metadata": {
        "id": "BakUFYAoQLGG"
      },
      "outputs": [],
      "source": [
        "# Submission file\n",
        "pd.DataFrame(\n",
        "    {'id': df_test.id,\n",
        "     'price': price_category_predicted}\n",
        ").to_csv('sample_submission_org2.csv', index=False)"
      ]
    },
    {
      "cell_type": "markdown",
      "metadata": {
        "id": "ZnQb2wDFQLGG"
      },
      "source": [
        "##Observation 2:\n",
        "The model got 0.61141 testing accuracy so maybe this is the the correct solution for the problem."
      ]
    },
    {
      "cell_type": "markdown",
      "metadata": {
        "id": "yhhmQkHZIm3v"
      },
      "source": [
        "#Sequence Models!\n",
        "**Expectation**: These models are supposed to keep some of the previous information provided to the model as input so we can expect for both GRUs and LSTMs to be better but GRU to be faster in training."
      ]
    },
    {
      "cell_type": "markdown",
      "metadata": {
        "id": "objhLkBaY1xA"
      },
      "source": [
        "#Gated Recurrent Unit GRU Model\n"
      ]
    },
    {
      "cell_type": "code",
      "execution_count": null,
      "metadata": {
        "id": "6q-l_ib8Y08s"
      },
      "outputs": [],
      "source": [
        "in_text = keras.Input(batch_shape=(None, max_len))\n",
        "in_image = keras.Input(batch_shape=(None, 64, 64, 2))\n",
        "\n",
        "# The next comments are used from the documentation of the model.\n",
        "# GRU paramerters:\n",
        "# units: a positive integer, dimensionality of the output space.\n",
        "# activation: Activation function to use. Default: hyperbolic tangent (tanh). If you pass None, no activation is applied (ie. \"linear\" activation: a(x) = x).\n",
        "# recurrent_activation: Activation function to use for the recurrent step. Default: sigmoid (sigmoid). If you pass None, no activation is applied (ie. \"linear\" activation: a(x) = x).\n",
        "# dropout: Float between 0 and 1. Fraction of the units to drop for the linear transformation of the inputs. Default: 0.\n",
        "# recurrent_dropout: Float between 0 and 1. Fraction of the units to drop for the linear transformation of the recurrent state. Default: 0.\n",
        "# return_sequences: Boolean. Whether to return the last output in the output sequence, or the full sequence. Default: False.\n",
        "embedded = keras.layers.Embedding(tokenizer.num_words, 100)(in_text)\n",
        "gru = keras.layers.GRU(128, \n",
        "                       activation=\"tanh\",\n",
        "                       recurrent_activation=\"sigmoid\",\n",
        "                       return_sequences=True,\n",
        "                       dropout=0.1,\n",
        "                       recurrent_dropout=0.1)(embedded)\n",
        "gru2 = keras.layers.GRU(128, \n",
        "                        activation=\"tanh\",\n",
        "                        recurrent_activation=\"sigmoid\",\n",
        "                        return_sequences=True,\n",
        "                        dropout=0.3,\n",
        "                        recurrent_dropout=0.1)(gru)\n",
        "gru3 = keras.layers.GRU(64, \n",
        "                        activation=\"tanh\",\n",
        "                        recurrent_activation=\"sigmoid\",\n",
        "                        return_sequences=False,\n",
        "                        dropout=0.2,\n",
        "                        recurrent_dropout=0.1)(gru2)\n",
        "\n",
        "# simple conv2d of 32 filter each of dimension 16x16\n",
        "cov = Conv2D(32, (16, 16))(in_image)\n",
        "pl = MaxPool2D((16, 16))(cov)\n",
        "flattened = Flatten()(pl)\n",
        "\n",
        "# fusion:\n",
        "fused = tf.concat([gru3, flattened], axis=-1)\n",
        "\n",
        "# multi-objectives (each is a multi-class classification)\n",
        "p_price = Dense(len_price, activation='softmax', name='price')(fused)\n",
        "p_type = Dense(len_type, activation='softmax', name='type')(fused)\n",
        "\n",
        "\n",
        "model = keras.Model(\n",
        "    inputs={\n",
        "        'summary': in_text,\n",
        "        'image': in_image\n",
        "    },\n",
        "    outputs={\n",
        "        'price': p_price,\n",
        "        'type': p_type,\n",
        "    },\n",
        ")\n",
        "\n",
        "\n",
        "model.compile(\n",
        "    optimizer=Adam(),\n",
        "    loss={\n",
        "        'price': 'sparse_categorical_crossentropy',\n",
        "        'type': 'sparse_categorical_crossentropy',\n",
        "    },\n",
        "    loss_weights={\n",
        "        'price': 0.5,\n",
        "        'type': 0.5,       \n",
        "    },\n",
        "    metrics={\n",
        "        'price': ['SparseCategoricalAccuracy'],\n",
        "        'type': ['SparseCategoricalAccuracy'],\n",
        "    },\n",
        ")\n",
        "\n",
        "\n",
        "model.summary()"
      ]
    },
    {
      "cell_type": "markdown",
      "metadata": {
        "id": "EsFxaqNOrKBI"
      },
      "source": [
        "## GRU Model Training"
      ]
    },
    {
      "cell_type": "code",
      "execution_count": null,
      "metadata": {
        "colab": {
          "base_uri": "https://localhost:8080/"
        },
        "id": "qcNZvxtJq8u8",
        "outputId": "22283667-ddcd-4d40-cdaa-3c5e0cbfa0a3"
      },
      "outputs": [
        {
          "output_type": "stream",
          "name": "stdout",
          "text": [
            "Epoch 1/20\n",
            "382/382 [==============================] - 303s 771ms/step - loss: 23.1529 - price_loss: 19.9381 - type_loss: 26.3678 - price_sparse_categorical_accuracy: 0.4916 - type_sparse_categorical_accuracy: 0.5889 - val_loss: 7.7193 - val_price_loss: 6.7265 - val_type_loss: 8.7120 - val_price_sparse_categorical_accuracy: 0.5465 - val_type_sparse_categorical_accuracy: 0.4535\n",
            "Epoch 2/20\n",
            "382/382 [==============================] - 296s 775ms/step - loss: 8.4008 - price_loss: 6.0848 - type_loss: 10.7168 - price_sparse_categorical_accuracy: 0.5130 - type_sparse_categorical_accuracy: 0.5830 - val_loss: 5.9851 - val_price_loss: 3.8243 - val_type_loss: 8.1459 - val_price_sparse_categorical_accuracy: 0.5393 - val_type_sparse_categorical_accuracy: 0.7025\n",
            "Epoch 3/20\n",
            "382/382 [==============================] - 297s 778ms/step - loss: 8.8491 - price_loss: 6.6420 - type_loss: 11.0562 - price_sparse_categorical_accuracy: 0.5076 - type_sparse_categorical_accuracy: 0.5870 - val_loss: 5.1938 - val_price_loss: 3.9730 - val_type_loss: 6.4146 - val_price_sparse_categorical_accuracy: 0.4856 - val_type_sparse_categorical_accuracy: 0.6894\n",
            "Epoch 4/20\n",
            "382/382 [==============================] - 297s 777ms/step - loss: 6.3140 - price_loss: 4.6637 - type_loss: 7.9642 - price_sparse_categorical_accuracy: 0.5243 - type_sparse_categorical_accuracy: 0.5904 - val_loss: 6.6653 - val_price_loss: 5.8569 - val_type_loss: 7.4736 - val_price_sparse_categorical_accuracy: 0.6029 - val_type_sparse_categorical_accuracy: 0.6907\n",
            "Epoch 5/20\n",
            "382/382 [==============================] - 298s 781ms/step - loss: 5.6763 - price_loss: 4.4427 - type_loss: 6.9100 - price_sparse_categorical_accuracy: 0.5165 - type_sparse_categorical_accuracy: 0.5968 - val_loss: 5.5727 - val_price_loss: 5.5660 - val_type_loss: 5.5794 - val_price_sparse_categorical_accuracy: 0.5092 - val_type_sparse_categorical_accuracy: 0.6894\n",
            "Epoch 6/20\n",
            "382/382 [==============================] - 298s 780ms/step - loss: 6.2994 - price_loss: 5.0324 - type_loss: 7.5663 - price_sparse_categorical_accuracy: 0.5179 - type_sparse_categorical_accuracy: 0.5866 - val_loss: 5.9063 - val_price_loss: 5.1719 - val_type_loss: 6.6408 - val_price_sparse_categorical_accuracy: 0.5655 - val_type_sparse_categorical_accuracy: 0.6959\n",
            "Epoch 7/20\n",
            "382/382 [==============================] - 298s 780ms/step - loss: 7.2875 - price_loss: 5.6802 - type_loss: 8.8948 - price_sparse_categorical_accuracy: 0.5153 - type_sparse_categorical_accuracy: 0.5891 - val_loss: 13.0367 - val_price_loss: 7.4782 - val_type_loss: 18.5951 - val_price_sparse_categorical_accuracy: 0.5459 - val_type_sparse_categorical_accuracy: 0.2189\n"
          ]
        }
      ],
      "source": [
        "history = model.fit(\n",
        "    x={\n",
        "        'summary': x_train_text_id,\n",
        "        'image': x_train_image\n",
        "    },\n",
        "    y={\n",
        "        'type': y_train_type,\n",
        "        'price': y_train_price,\n",
        "    },\n",
        "    epochs=20,\n",
        "    batch_size=16,\n",
        "    validation_split=0.2,\n",
        "    callbacks=[\n",
        "        tf.keras.callbacks.EarlyStopping(monitor='val_price_loss', patience=5 )\n",
        "    ],\n",
        "    verbose=1\n",
        ")"
      ]
    },
    {
      "cell_type": "markdown",
      "metadata": {
        "id": "Znrbgp7QrIQG"
      },
      "source": [
        "## Predition\n",
        "\n",
        "We can use the model to predict the testing samples."
      ]
    },
    {
      "cell_type": "code",
      "execution_count": null,
      "metadata": {
        "colab": {
          "base_uri": "https://localhost:8080/"
        },
        "id": "jVSNisw1rIQJ",
        "outputId": "e73fe5f1-d369-45da-e19c-0d99d3b3988c"
      },
      "outputs": [
        {
          "output_type": "stream",
          "name": "stdout",
          "text": [
            "[[0.87295383 0.0645676  0.06247856]\n",
            " [0.8662768  0.071761   0.0619622 ]\n",
            " [0.8735058  0.06453957 0.06195467]\n",
            " ...\n",
            " [0.8746613  0.06452443 0.0608143 ]\n",
            " [0.8721485  0.06478656 0.06306493]\n",
            " [0.874117   0.06483705 0.06104586]]\n",
            "[0 0 0 ... 0 0 0]\n"
          ]
        }
      ],
      "source": [
        "# Predition\n",
        "# we can do prediction on training set\n",
        "y_predict = model.predict(\n",
        "    {\n",
        "        'summary': x_test_text,\n",
        "        'image': x_test_image\n",
        "    }\n",
        ")\n",
        "\n",
        "\n",
        "# probabilities\n",
        "price_predicted = y_predict['price']\n",
        "print(price_predicted)\n",
        "\n",
        "# categories\n",
        "price_category_predicted = np.argmax(price_predicted, axis=1)\n",
        "print(price_category_predicted)\n"
      ]
    },
    {
      "cell_type": "code",
      "execution_count": null,
      "metadata": {
        "id": "85QgHomGrIQK"
      },
      "outputs": [],
      "source": [
        "# Submission file\n",
        "pd.DataFrame(\n",
        "    {'id': df_test.id,\n",
        "     'price': price_category_predicted}\n",
        ").to_csv('sample_submission_GRU.csv', index=False)"
      ]
    },
    {
      "cell_type": "markdown",
      "metadata": {
        "id": "hlm7SMlNFJh2"
      },
      "source": [
        "## Observation 3: \n",
        "GRU Model got testing accuracy of score: 0.53125 which is even worse than the main model.\n",
        "\n",
        "Score: 0.58940"
      ]
    },
    {
      "cell_type": "markdown",
      "metadata": {
        "id": "AcDgmS0NaWol"
      },
      "source": [
        "#Long Short Term Memory (LSTM)"
      ]
    },
    {
      "cell_type": "code",
      "execution_count": null,
      "metadata": {
        "colab": {
          "base_uri": "https://localhost:8080/"
        },
        "id": "fD4rAv2baV_s",
        "outputId": "9306e3be-0b86-4137-a3fd-7b3f6dbc362b"
      },
      "outputs": [
        {
          "output_type": "stream",
          "name": "stdout",
          "text": [
            "Model: \"model_6\"\n",
            "__________________________________________________________________________________________________\n",
            " Layer (type)                   Output Shape         Param #     Connected to                     \n",
            "==================================================================================================\n",
            " input_13 (InputLayer)          [(None, 100)]        0           []                               \n",
            "                                                                                                  \n",
            " embedding_6 (Embedding)        (None, 100, 100)     4000000     ['input_13[0][0]']               \n",
            "                                                                                                  \n",
            " input_14 (InputLayer)          [(None, 64, 64, 2)]  0           []                               \n",
            "                                                                                                  \n",
            " lstm (LSTM)                    (None, 100, 128)     117248      ['embedding_6[0][0]']            \n",
            "                                                                                                  \n",
            " conv2d_6 (Conv2D)              (None, 49, 49, 64)   32832       ['input_14[0][0]']               \n",
            "                                                                                                  \n",
            " lstm_1 (LSTM)                  (None, 100, 64)      49408       ['lstm[0][0]']                   \n",
            "                                                                                                  \n",
            " max_pooling2d_6 (MaxPooling2D)  (None, 3, 3, 64)    0           ['conv2d_6[0][0]']               \n",
            "                                                                                                  \n",
            " lstm_2 (LSTM)                  (None, 64)           33024       ['lstm_1[0][0]']                 \n",
            "                                                                                                  \n",
            " flatten_6 (Flatten)            (None, 576)          0           ['max_pooling2d_6[0][0]']        \n",
            "                                                                                                  \n",
            " tf.concat_6 (TFOpLambda)       (None, 640)          0           ['lstm_2[0][0]',                 \n",
            "                                                                  'flatten_6[0][0]']              \n",
            "                                                                                                  \n",
            " price (Dense)                  (None, 3)            1923        ['tf.concat_6[0][0]']            \n",
            "                                                                                                  \n",
            " type (Dense)                   (None, 24)           15384       ['tf.concat_6[0][0]']            \n",
            "                                                                                                  \n",
            "==================================================================================================\n",
            "Total params: 4,249,819\n",
            "Trainable params: 4,249,819\n",
            "Non-trainable params: 0\n",
            "__________________________________________________________________________________________________\n"
          ]
        }
      ],
      "source": [
        "# Long Short Term Memory (LSTM)\n",
        "# Long Short Term Memory networks – usually just called “LSTMs”\n",
        "# are a special kind of RNN, capable of learning long-term dependencies.\n",
        "\n",
        "in_text = keras.Input(batch_shape=(None, max_len))\n",
        "in_image = keras.Input(batch_shape=(None, 64, 64, 2))\n",
        "\n",
        "# The next comments are used from the documentation of the model.\n",
        "# LSTM parameters:\n",
        "# units: Positive integer, dimensionality of the output space.\n",
        "# activation: Activation function to use. Default: hyperbolic tangent (tanh). If you pass None, no activation is applied (ie. \"linear\" activation: a(x) = x).\n",
        "# recurrent_activation: Activation function to use for the recurrent step. Default: sigmoid (sigmoid). If you pass None, no activation is applied (ie. \"linear\" activation: a(x) = x).\n",
        "# dropout: Float between 0 and 1. Fraction of the units to drop for the linear transformation of the inputs. Default: 0.\n",
        "# return_sequences: Boolean. Whether to return the last output. in the output sequence, or the full sequence. Default: False.\n",
        "embedded = keras.layers.Embedding(tokenizer.num_words, 100)(in_text)\n",
        "lstm = keras.layers.LSTM(128, \n",
        "                         activation=\"tanh\",\n",
        "                         recurrent_activation=\"sigmoid\",\n",
        "                         return_sequences=True,\n",
        "                         dropout=0.1,\n",
        "                         recurrent_dropout=0.1)(embedded)\n",
        "lstm2 = keras.layers.LSTM(64, \n",
        "                         activation=\"tanh\",\n",
        "                         recurrent_activation=\"sigmoid\",\n",
        "                         return_sequences=True,\n",
        "                         dropout=0.2,\n",
        "                         recurrent_dropout=0.1)(lstm)\n",
        "lstm3 = keras.layers.LSTM(64, \n",
        "                         activation=\"tanh\",\n",
        "                         recurrent_activation=\"sigmoid\",\n",
        "                         return_sequences=False,\n",
        "                         dropout=0.2,\n",
        "                         recurrent_dropout=0.1)(lstm2)\n",
        "\n",
        "\n",
        "# simple conv2d of 64 filter each of dimension 16x16\n",
        "cov = Conv2D(64, (16, 16))(in_image)\n",
        "pl = MaxPool2D((16, 16))(cov)\n",
        "flattened = Flatten()(pl)\n",
        "\n",
        "# fusion:\n",
        "fused = tf.concat([lstm3, flattened], axis=-1)\n",
        "\n",
        "# multi-objectives (each is a multi-class classification)\n",
        "p_price = Dense(len_price, activation='softmax', name='price')(fused)\n",
        "p_type = Dense(len_type, activation='softmax', name='type')(fused)\n",
        "\n",
        "model = keras.Model(\n",
        "    inputs={\n",
        "        'summary': in_text,\n",
        "        'image': in_image\n",
        "    },\n",
        "    outputs={\n",
        "        'price': p_price,\n",
        "        'type': p_type,\n",
        "    },\n",
        ")\n",
        "\n",
        "model.compile(\n",
        "    optimizer=Adam(),\n",
        "    loss={\n",
        "        'price': 'sparse_categorical_crossentropy',\n",
        "        'type': 'sparse_categorical_crossentropy',\n",
        "    },\n",
        "    loss_weights={\n",
        "        'price': 0.5,\n",
        "        'type': 0.5,       \n",
        "    },\n",
        "    metrics={\n",
        "        'price': ['SparseCategoricalAccuracy'],\n",
        "        'type': ['SparseCategoricalAccuracy'],\n",
        "    },\n",
        ")\n",
        "\n",
        "model.summary()"
      ]
    },
    {
      "cell_type": "markdown",
      "metadata": {
        "id": "45dPCH5ytlr1"
      },
      "source": [
        "## LSTM Model Training"
      ]
    },
    {
      "cell_type": "code",
      "execution_count": null,
      "metadata": {
        "colab": {
          "base_uri": "https://localhost:8080/"
        },
        "id": "96FU_zM7tlr8",
        "outputId": "0e8703da-4701-4663-ad12-0c5407e4e03c"
      },
      "outputs": [
        {
          "output_type": "stream",
          "name": "stdout",
          "text": [
            "Epoch 1/20\n",
            "382/382 [==============================] - 288s 730ms/step - loss: 38.9982 - price_loss: 26.9335 - type_loss: 51.0629 - price_sparse_categorical_accuracy: 0.5035 - type_sparse_categorical_accuracy: 0.5819 - val_loss: 11.7713 - val_price_loss: 9.0625 - val_type_loss: 14.4802 - val_price_sparse_categorical_accuracy: 0.3768 - val_type_sparse_categorical_accuracy: 0.6402\n",
            "Epoch 2/20\n",
            "382/382 [==============================] - 279s 731ms/step - loss: 13.2197 - price_loss: 8.3771 - type_loss: 18.0623 - price_sparse_categorical_accuracy: 0.5137 - type_sparse_categorical_accuracy: 0.5835 - val_loss: 8.8694 - val_price_loss: 5.8454 - val_type_loss: 11.8934 - val_price_sparse_categorical_accuracy: 0.5085 - val_type_sparse_categorical_accuracy: 0.7418\n",
            "Epoch 3/20\n",
            "382/382 [==============================] - 276s 722ms/step - loss: 12.8447 - price_loss: 8.7468 - type_loss: 16.9425 - price_sparse_categorical_accuracy: 0.5135 - type_sparse_categorical_accuracy: 0.5917 - val_loss: 6.8195 - val_price_loss: 5.8757 - val_type_loss: 7.7633 - val_price_sparse_categorical_accuracy: 0.5197 - val_type_sparse_categorical_accuracy: 0.6468\n",
            "Epoch 4/20\n",
            "382/382 [==============================] - 276s 722ms/step - loss: 22.5245 - price_loss: 16.9971 - type_loss: 28.0520 - price_sparse_categorical_accuracy: 0.5199 - type_sparse_categorical_accuracy: 0.5888 - val_loss: 22.6592 - val_price_loss: 25.0811 - val_type_loss: 20.2373 - val_price_sparse_categorical_accuracy: 0.6252 - val_type_sparse_categorical_accuracy: 0.7661\n",
            "Epoch 5/20\n",
            "382/382 [==============================] - 284s 744ms/step - loss: 17.0351 - price_loss: 11.0129 - type_loss: 23.0574 - price_sparse_categorical_accuracy: 0.5255 - type_sparse_categorical_accuracy: 0.5965 - val_loss: 48.2323 - val_price_loss: 21.3107 - val_type_loss: 75.1538 - val_price_sparse_categorical_accuracy: 0.6245 - val_type_sparse_categorical_accuracy: 0.7647\n",
            "Epoch 6/20\n",
            "382/382 [==============================] - 282s 738ms/step - loss: 22.5694 - price_loss: 18.3823 - type_loss: 26.7564 - price_sparse_categorical_accuracy: 0.5270 - type_sparse_categorical_accuracy: 0.5999 - val_loss: 19.4776 - val_price_loss: 10.6034 - val_type_loss: 28.3519 - val_price_sparse_categorical_accuracy: 0.5990 - val_type_sparse_categorical_accuracy: 0.7464\n",
            "Epoch 7/20\n",
            "382/382 [==============================] - 282s 737ms/step - loss: 21.1941 - price_loss: 13.7040 - type_loss: 28.6843 - price_sparse_categorical_accuracy: 0.5381 - type_sparse_categorical_accuracy: 0.5989 - val_loss: 10.5081 - val_price_loss: 7.1174 - val_type_loss: 13.8988 - val_price_sparse_categorical_accuracy: 0.5308 - val_type_sparse_categorical_accuracy: 0.5583\n"
          ]
        }
      ],
      "source": [
        "history = model.fit(\n",
        "    x={\n",
        "        'summary': x_train_text_id,\n",
        "        'image': x_train_image\n",
        "    },\n",
        "    y={\n",
        "        'type': y_train_type,\n",
        "        'price': y_train_price,\n",
        "    },\n",
        "    epochs=20,\n",
        "    batch_size=16,\n",
        "    validation_split=0.2,\n",
        "    callbacks=[\n",
        "        tf.keras.callbacks.EarlyStopping(monitor='val_price_loss', patience=5 )\n",
        "    ],\n",
        "    verbose=1\n",
        ")"
      ]
    },
    {
      "cell_type": "markdown",
      "metadata": {
        "id": "Vt6eqg4ctlr9"
      },
      "source": [
        "## Predition\n",
        "\n",
        "We can use the model to predict the testing samples."
      ]
    },
    {
      "cell_type": "code",
      "execution_count": null,
      "metadata": {
        "colab": {
          "base_uri": "https://localhost:8080/"
        },
        "id": "5i63RnVKtlr9",
        "outputId": "32323402-0b09-4751-bf93-b1fe938d93cc"
      },
      "outputs": [
        {
          "output_type": "stream",
          "name": "stdout",
          "text": [
            "[[0.24092525 0.43227267 0.32680205]\n",
            " [0.99025106 0.00621859 0.0035303 ]\n",
            " [0.24092528 0.4322727  0.32680205]\n",
            " ...\n",
            " [0.24092528 0.4322727  0.32680205]\n",
            " [0.24092528 0.4322727  0.32680205]\n",
            " [0.24092528 0.4322727  0.32680205]]\n",
            "[1 0 1 ... 1 1 1]\n"
          ]
        }
      ],
      "source": [
        "# Predition\n",
        "# we can do prediction on training set\n",
        "y_predict = model.predict(\n",
        "    {\n",
        "        'summary': x_test_text,\n",
        "        'image': x_test_image\n",
        "    }\n",
        ")\n",
        "\n",
        "\n",
        "# probabilities\n",
        "price_predicted = y_predict['price']\n",
        "print(price_predicted)\n",
        "\n",
        "# categories\n",
        "price_category_predicted = np.argmax(price_predicted, axis=1)\n",
        "print(price_category_predicted)\n"
      ]
    },
    {
      "cell_type": "code",
      "execution_count": null,
      "metadata": {
        "id": "_Jswo2xEtlr9"
      },
      "outputs": [],
      "source": [
        "# Submission file\n",
        "pd.DataFrame(\n",
        "    {'id': df_test.id,\n",
        "     'price': price_category_predicted}\n",
        ").to_csv('sample_submission_LSTM.csv', index=False)"
      ]
    },
    {
      "cell_type": "markdown",
      "metadata": {
        "id": "bsuff1oq-AhY"
      },
      "source": [
        "##Observation 4:\n",
        "The model got testing score of accuracy: 0.62038"
      ]
    },
    {
      "cell_type": "markdown",
      "metadata": {
        "id": "gVgIE04ad7RG"
      },
      "source": [
        "#Bidirectional RNN\n",
        "**Expectations:** It is supposed to work even better than GRUs and LSTMs as it is taking the input in a forward direction, and the other in a backwards direction which makes it capture part and future dependencies."
      ]
    },
    {
      "cell_type": "code",
      "execution_count": null,
      "metadata": {
        "colab": {
          "base_uri": "https://localhost:8080/"
        },
        "id": "sK8cxFt0d7yI",
        "outputId": "955f6ff1-7f09-429a-89f1-2ab819988bb4"
      },
      "outputs": [
        {
          "output_type": "stream",
          "name": "stdout",
          "text": [
            "Model: \"model_7\"\n",
            "__________________________________________________________________________________________________\n",
            " Layer (type)                   Output Shape         Param #     Connected to                     \n",
            "==================================================================================================\n",
            " input_15 (InputLayer)          [(None, 100)]        0           []                               \n",
            "                                                                                                  \n",
            " embedding_7 (Embedding)        (None, 100, 150)     6000000     ['input_15[0][0]']               \n",
            "                                                                                                  \n",
            " input_16 (InputLayer)          [(None, 64, 64, 2)]  0           []                               \n",
            "                                                                                                  \n",
            " bidirectional (Bidirectional)  (None, 100, 256)     285696      ['embedding_7[0][0]']            \n",
            "                                                                                                  \n",
            " conv2d_7 (Conv2D)              (None, 49, 49, 32)   16416       ['input_16[0][0]']               \n",
            "                                                                                                  \n",
            " bidirectional_1 (Bidirectional  (None, 100, 256)    394240      ['bidirectional[0][0]']          \n",
            " )                                                                                                \n",
            "                                                                                                  \n",
            " max_pooling2d_7 (MaxPooling2D)  (None, 3, 3, 32)    0           ['conv2d_7[0][0]']               \n",
            "                                                                                                  \n",
            " bidirectional_2 (Bidirectional  (None, 128)         164352      ['bidirectional_1[0][0]']        \n",
            " )                                                                                                \n",
            "                                                                                                  \n",
            " flatten_7 (Flatten)            (None, 288)          0           ['max_pooling2d_7[0][0]']        \n",
            "                                                                                                  \n",
            " tf.concat_7 (TFOpLambda)       (None, 416)          0           ['bidirectional_2[0][0]',        \n",
            "                                                                  'flatten_7[0][0]']              \n",
            "                                                                                                  \n",
            " price (Dense)                  (None, 3)            1251        ['tf.concat_7[0][0]']            \n",
            "                                                                                                  \n",
            " type (Dense)                   (None, 24)           10008       ['tf.concat_7[0][0]']            \n",
            "                                                                                                  \n",
            "==================================================================================================\n",
            "Total params: 6,871,963\n",
            "Trainable params: 6,871,963\n",
            "Non-trainable params: 0\n",
            "__________________________________________________________________________________________________\n"
          ]
        }
      ],
      "source": [
        "\n",
        "in_text = keras.Input(batch_shape=(None, max_len))\n",
        "in_image = keras.Input(batch_shape=(None, 64, 64, 2))\n",
        "\n",
        "# \n",
        "# Bidirectional LSTMs are an extension of traditional LSTMs that can improve model\n",
        "# performance on sequence classification problems.\n",
        "embedded = keras.layers.Embedding(tokenizer.num_words, 150)(in_text)\n",
        "bidirectional = keras.layers.Bidirectional(keras.layers.LSTM(128, return_sequences=True))(embedded)\n",
        "bidirectional1 = keras.layers.Bidirectional(keras.layers.LSTM(128, return_sequences=True))(bidirectional)\n",
        "bidirectional2 = keras.layers.Bidirectional(keras.layers.LSTM(64, return_sequences=False))(bidirectional1)\n",
        "\n",
        "# simple conv2d of 64 filter each of dimension 16x16\n",
        "cov = Conv2D(32, (16, 16))(in_image)\n",
        "pl = MaxPool2D((16, 16))(cov)\n",
        "flattened = Flatten()(pl)\n",
        "\n",
        "# fusion:\n",
        "fused = tf.concat([bidirectional2, flattened], axis=-1)\n",
        "\n",
        "# multi-objectives (each is a multi-class classification)\n",
        "p_price = Dense(len_price, activation='softmax', name='price')(fused)\n",
        "p_type = Dense(len_type, activation='softmax', name='type')(fused)\n",
        "\n",
        "model = keras.Model(\n",
        "    inputs={\n",
        "        'summary': in_text,\n",
        "        'image': in_image\n",
        "    },\n",
        "    outputs={\n",
        "        'price': p_price,\n",
        "        'type': p_type,\n",
        "    },\n",
        ")\n",
        "\n",
        "model.compile(\n",
        "    optimizer=Adam(),\n",
        "    loss={\n",
        "        'price': 'sparse_categorical_crossentropy',\n",
        "        'type': 'sparse_categorical_crossentropy',\n",
        "    },\n",
        "    loss_weights={\n",
        "        'price': 0.5,\n",
        "        'type': 0.5,       \n",
        "    },\n",
        "    metrics={\n",
        "        'price': ['SparseCategoricalAccuracy'],\n",
        "        'type': ['SparseCategoricalAccuracy'],\n",
        "    },\n",
        ")\n",
        "\n",
        "model.summary()"
      ]
    },
    {
      "cell_type": "markdown",
      "metadata": {
        "id": "HgkjUELst7mU"
      },
      "source": [
        "## Bidirectional Model Training"
      ]
    },
    {
      "cell_type": "code",
      "execution_count": null,
      "metadata": {
        "colab": {
          "base_uri": "https://localhost:8080/"
        },
        "id": "Fel17zr6t7mf",
        "outputId": "81433c7f-ad0c-47a8-ab30-6e900786eae3"
      },
      "outputs": [
        {
          "output_type": "stream",
          "name": "stdout",
          "text": [
            "Epoch 1/20\n",
            "382/382 [==============================] - 379s 964ms/step - loss: 23.3396 - price_loss: 17.4313 - type_loss: 29.2479 - price_sparse_categorical_accuracy: 0.5009 - type_sparse_categorical_accuracy: 0.5822 - val_loss: 10.6979 - val_price_loss: 8.1480 - val_type_loss: 13.2478 - val_price_sparse_categorical_accuracy: 0.6219 - val_type_sparse_categorical_accuracy: 0.7621\n",
            "Epoch 2/20\n",
            "382/382 [==============================] - 365s 957ms/step - loss: 6.5524 - price_loss: 4.9359 - type_loss: 8.1690 - price_sparse_categorical_accuracy: 0.5294 - type_sparse_categorical_accuracy: 0.5852 - val_loss: 4.9889 - val_price_loss: 3.2465 - val_type_loss: 6.7313 - val_price_sparse_categorical_accuracy: 0.5793 - val_type_sparse_categorical_accuracy: 0.6789\n",
            "Epoch 3/20\n",
            "382/382 [==============================] - 369s 965ms/step - loss: 5.7872 - price_loss: 4.3354 - type_loss: 7.2390 - price_sparse_categorical_accuracy: 0.5479 - type_sparse_categorical_accuracy: 0.5930 - val_loss: 4.1525 - val_price_loss: 3.7532 - val_type_loss: 4.5518 - val_price_sparse_categorical_accuracy: 0.5616 - val_type_sparse_categorical_accuracy: 0.6337\n",
            "Epoch 4/20\n",
            "382/382 [==============================] - 369s 965ms/step - loss: 8.0696 - price_loss: 6.2690 - type_loss: 9.8703 - price_sparse_categorical_accuracy: 0.5532 - type_sparse_categorical_accuracy: 0.5950 - val_loss: 5.6296 - val_price_loss: 4.6371 - val_type_loss: 6.6222 - val_price_sparse_categorical_accuracy: 0.5845 - val_type_sparse_categorical_accuracy: 0.7431\n",
            "Epoch 5/20\n",
            "382/382 [==============================] - 370s 969ms/step - loss: 4.9618 - price_loss: 3.7061 - type_loss: 6.2175 - price_sparse_categorical_accuracy: 0.5892 - type_sparse_categorical_accuracy: 0.6227 - val_loss: 5.8239 - val_price_loss: 4.2579 - val_type_loss: 7.3898 - val_price_sparse_categorical_accuracy: 0.5747 - val_type_sparse_categorical_accuracy: 0.7333\n",
            "Epoch 6/20\n",
            "382/382 [==============================] - 370s 969ms/step - loss: 5.3623 - price_loss: 4.0985 - type_loss: 6.6260 - price_sparse_categorical_accuracy: 0.5992 - type_sparse_categorical_accuracy: 0.6197 - val_loss: 7.1559 - val_price_loss: 6.1299 - val_type_loss: 8.1820 - val_price_sparse_categorical_accuracy: 0.4292 - val_type_sparse_categorical_accuracy: 0.7038\n",
            "Epoch 7/20\n",
            "382/382 [==============================] - 369s 966ms/step - loss: 5.0124 - price_loss: 3.8148 - type_loss: 6.2100 - price_sparse_categorical_accuracy: 0.6058 - type_sparse_categorical_accuracy: 0.6279 - val_loss: 4.4388 - val_price_loss: 3.8155 - val_type_loss: 5.0621 - val_price_sparse_categorical_accuracy: 0.5439 - val_type_sparse_categorical_accuracy: 0.6356\n"
          ]
        }
      ],
      "source": [
        "history = model.fit(\n",
        "    x={\n",
        "        'summary': x_train_text_id,\n",
        "        'image': x_train_image\n",
        "    },\n",
        "    y={\n",
        "        'type': y_train_type.to_numpy(),\n",
        "        'price': y_train_price.to_numpy(),\n",
        "    },\n",
        "    epochs=20,\n",
        "    batch_size=16,\n",
        "    validation_split=0.2,\n",
        "    callbacks=[\n",
        "        tf.keras.callbacks.EarlyStopping(monitor='val_price_loss', patience=5 )\n",
        "    ],\n",
        "    verbose=1\n",
        ")"
      ]
    },
    {
      "cell_type": "markdown",
      "metadata": {
        "id": "z6pN1kwTt7mg"
      },
      "source": [
        "## Predition\n",
        "\n",
        "We can use the model to predict the testing samples."
      ]
    },
    {
      "cell_type": "code",
      "execution_count": null,
      "metadata": {
        "colab": {
          "base_uri": "https://localhost:8080/"
        },
        "id": "SD8u8qZdt7mg",
        "outputId": "72b35208-b88f-475d-e837-4d1060b1e9d2"
      },
      "outputs": [
        {
          "output_type": "stream",
          "name": "stdout",
          "text": [
            "[[5.6923777e-01 3.0483732e-01 1.2592497e-01]\n",
            " [9.9999952e-01 5.1828152e-07 1.7620703e-08]\n",
            " [9.9999940e-01 5.5157147e-07 1.9026158e-08]\n",
            " ...\n",
            " [9.9999285e-01 6.7584310e-06 3.1286717e-07]\n",
            " [9.9999905e-01 9.5608664e-07 3.4208586e-08]\n",
            " [7.4724245e-01 1.9251856e-01 6.0238998e-02]]\n",
            "[0 0 0 ... 0 0 0]\n"
          ]
        }
      ],
      "source": [
        "# Predition\n",
        "# we can do prediction on training set\n",
        "y_predict = model.predict(\n",
        "    {\n",
        "        'summary': x_test_text,\n",
        "        'image': x_test_image\n",
        "    }\n",
        ")\n",
        "\n",
        "\n",
        "# probabilities\n",
        "price_predicted = y_predict['price']\n",
        "print(price_predicted)\n",
        "\n",
        "# categories\n",
        "price_category_predicted = np.argmax(price_predicted, axis=1)\n",
        "print(price_category_predicted)\n"
      ]
    },
    {
      "cell_type": "code",
      "execution_count": null,
      "metadata": {
        "id": "GL6mWrKut7mg"
      },
      "outputs": [],
      "source": [
        "# Submission file\n",
        "pd.DataFrame(\n",
        "    {'id': df_test.id,\n",
        "     'price': price_category_predicted}\n",
        ").to_csv('sample_submission_BI.csv', index=False)"
      ]
    },
    {
      "cell_type": "markdown",
      "metadata": {
        "id": "mqKr7WStSpBF"
      },
      "source": [
        "##Observation 5:\n",
        "\n",
        "The model got testing score of accuracy: 0.58804"
      ]
    },
    {
      "cell_type": "markdown",
      "metadata": {
        "id": "PvYqfGXgThvt"
      },
      "source": [
        "# The last model will work with RGB images."
      ]
    },
    {
      "cell_type": "code",
      "execution_count": null,
      "metadata": {
        "id": "8JLcywcmT41A",
        "colab": {
          "base_uri": "https://localhost:8080/",
          "height": 49,
          "referenced_widgets": [
            "647fe2b569e44632a8bb57f872ed3b1e",
            "901b862fcb2c46cf8bf6ec837cfd4e78",
            "8d3e5559c15f4129bad875f81d0afbce",
            "0aa40d55998c474e98be8379e68af280",
            "0e1cabda5db14e11a38a27fff4932f33",
            "ddf265e07f6a49db9d3ec9e6cfbc2901",
            "53f16bb5c7d4430180656a6962198721",
            "54c3c3be6b914575b5ea23a2e25e7ee5",
            "7440c3c8ffe849d1aa57e7389c91c592",
            "c2fc54d3592942d69246154626b6100d",
            "e37d42579af341c3a9e433bdd9beea3c"
          ]
        },
        "outputId": "214738cd-30f5-4c6e-db4f-09f1a3f4fde4"
      },
      "outputs": [
        {
          "output_type": "display_data",
          "data": {
            "text/plain": [
              "  0%|          | 0/7627 [00:00<?, ?it/s]"
            ],
            "application/vnd.jupyter.widget-view+json": {
              "version_major": 2,
              "version_minor": 0,
              "model_id": "647fe2b569e44632a8bb57f872ed3b1e"
            }
          },
          "metadata": {}
        }
      ],
      "source": [
        "# preprocess image data\n",
        "import os\n",
        "\n",
        "def load_image(file):\n",
        "    try:\n",
        "        image = Image.open(\n",
        "            file\n",
        "        ).convert('RGB').resize((64, 64,3))\n",
        "        arr = np.array(image)\n",
        "    except:\n",
        "        arr = np.zeros((64, 64, 3))\n",
        "    return arr\n",
        "\n",
        "\n",
        "# loading images:\n",
        "x_train_image = np.array([load_image(i) for i in tqdm('/content/a4/'+df.image)])\n",
        "\n",
        "# loading overview: (force convert some of the non-string cell to string)\n",
        "x_train_text = df.summary.astype('str')\n",
        "\n",
        "# get type\n",
        "y_train_type = df['type']\n",
        "\n",
        "# get language\n",
        "y_train_price = df.price"
      ]
    },
    {
      "cell_type": "markdown",
      "metadata": {
        "id": "hu_gaso-ExYb"
      },
      "source": [
        "##Data Preprocessing (Training)"
      ]
    },
    {
      "cell_type": "code",
      "execution_count": null,
      "metadata": {
        "id": "oKs7xCsrT41Q",
        "colab": {
          "base_uri": "https://localhost:8080/"
        },
        "outputId": "21392b00-b1bd-42ae-8655-f3e435b89f9e"
      },
      "outputs": [
        {
          "output_type": "stream",
          "name": "stdout",
          "text": [
            "(7627, 100)\n"
          ]
        }
      ],
      "source": [
        "# preprocess text data\n",
        "\n",
        "vocab_size = 40000\n",
        "max_len = 100\n",
        "\n",
        "\n",
        "# build vocabulary from training set\n",
        "tokenizer = Tokenizer(num_words=vocab_size)\n",
        "tokenizer.fit_on_texts(x_train_text)\n",
        "\n",
        "\n",
        "def _preprocess(list_of_text):\n",
        "    return pad_sequences(\n",
        "        tokenizer.texts_to_sequences(list_of_text),\n",
        "        maxlen=max_len,\n",
        "        padding='post',\n",
        "    )\n",
        "    \n",
        "#x_vl_text_id = _preprocess(x_vl_text)\n",
        "# padding is done inside: \n",
        "x_train_text_id = _preprocess(x_train_text)\n",
        "\n",
        "print(x_train_text_id.shape)"
      ]
    },
    {
      "cell_type": "markdown",
      "metadata": {
        "id": "1wlUf0mzT41Q"
      },
      "source": [
        "## Building a Learning model"
      ]
    },
    {
      "cell_type": "code",
      "execution_count": null,
      "metadata": {
        "id": "O0VYwHaGT41Q",
        "colab": {
          "base_uri": "https://localhost:8080/"
        },
        "outputId": "39dd9361-fcb0-4bca-f62f-4403251e6f3d"
      },
      "outputs": [
        {
          "output_type": "stream",
          "name": "stdout",
          "text": [
            "Model: \"model_8\"\n",
            "__________________________________________________________________________________________________\n",
            " Layer (type)                   Output Shape         Param #     Connected to                     \n",
            "==================================================================================================\n",
            " input_18 (InputLayer)          [(None, 64, 64, 3)]  0           []                               \n",
            "                                                                                                  \n",
            " input_17 (InputLayer)          [(None, 100)]        0           []                               \n",
            "                                                                                                  \n",
            " conv2d_8 (Conv2D)              (None, 49, 49, 64)   49216       ['input_18[0][0]']               \n",
            "                                                                                                  \n",
            " embedding_8 (Embedding)        (None, 100, 150)     6000000     ['input_17[0][0]']               \n",
            "                                                                                                  \n",
            " max_pooling2d_8 (MaxPooling2D)  (None, 3, 3, 64)    0           ['conv2d_8[0][0]']               \n",
            "                                                                                                  \n",
            " tf.math.reduce_mean_5 (TFOpLam  (None, 150)         0           ['embedding_8[0][0]']            \n",
            " bda)                                                                                             \n",
            "                                                                                                  \n",
            " flatten_8 (Flatten)            (None, 576)          0           ['max_pooling2d_8[0][0]']        \n",
            "                                                                                                  \n",
            " tf.concat_8 (TFOpLambda)       (None, 726)          0           ['tf.math.reduce_mean_5[0][0]',  \n",
            "                                                                  'flatten_8[0][0]']              \n",
            "                                                                                                  \n",
            " price (Dense)                  (None, 3)            2181        ['tf.concat_8[0][0]']            \n",
            "                                                                                                  \n",
            " type (Dense)                   (None, 24)           17448       ['tf.concat_8[0][0]']            \n",
            "                                                                                                  \n",
            "==================================================================================================\n",
            "Total params: 6,068,845\n",
            "Trainable params: 6,068,845\n",
            "Non-trainable params: 0\n",
            "__________________________________________________________________________________________________\n"
          ]
        }
      ],
      "source": [
        "from keras.layers import SpatialDropout2D\n",
        "# here we have two inputs. one for image and the other for text.\n",
        "\n",
        "in_text = keras.Input(batch_shape=(None, max_len))\n",
        "in_image = keras.Input(batch_shape=(None, 64, 64, 3))\n",
        "\n",
        "# text part\n",
        "# simple average of embedding of 150 vector space\n",
        "embedded = keras.layers.Embedding(tokenizer.num_words, 150)(in_text)\n",
        "averaged = tf.reduce_mean(embedded, axis=1)\n",
        "\n",
        "\n",
        "# image part \n",
        "# simple conv2d of 64 filter each of dimension 16x16\n",
        "cov = Conv2D(64, (16, 16))(in_image)\n",
        "pl = MaxPool2D((16, 16))(cov)\n",
        "#dropout= SpatialDropout2D(0.4) (pl)\n",
        "flattened = Flatten()(pl)\n",
        "\n",
        "\n",
        "# fusion - combinig both\n",
        "fused = tf.concat([averaged, flattened], axis=-1)\n",
        "\n",
        "# multi-task learning (each is a multi-class classification)\n",
        "# one dense layer for each task\n",
        "p_type = Dense(len_type, activation='softmax', name='type')(fused)\n",
        "p_price = Dense(len_price, activation='softmax', name='price')(fused)\n",
        "\n",
        "\n",
        "# define model input/output using keys.\n",
        "model = keras.Model(\n",
        "    inputs={\n",
        "        'summary': in_text,\n",
        "        'image': in_image\n",
        "    },\n",
        "    outputs={\n",
        "        'type': p_type,\n",
        "        'price': p_price,\n",
        "    },\n",
        ")\n",
        "\n",
        "\n",
        "# compile model with optimizer, loss values for each task, loss \n",
        "# weights for each task.\n",
        "model.compile(\n",
        "    optimizer=Adam(),\n",
        "    loss={\n",
        "        'type': 'sparse_categorical_crossentropy',\n",
        "        'price': 'sparse_categorical_crossentropy',\n",
        "    },\n",
        "    loss_weights={\n",
        "        'type': 0.5,\n",
        "        'price': 0.5,       \n",
        "    },\n",
        "    metrics={\n",
        "        'type': ['SparseCategoricalAccuracy'],\n",
        "        'price': ['SparseCategoricalAccuracy'],\n",
        "    },\n",
        ")\n",
        "\n",
        "\n",
        "model.summary()"
      ]
    },
    {
      "cell_type": "code",
      "execution_count": null,
      "metadata": {
        "id": "HQrywNVnT41R",
        "colab": {
          "base_uri": "https://localhost:8080/"
        },
        "outputId": "45d71cc8-85dc-4b4b-b496-4928bdf34073"
      },
      "outputs": [
        {
          "output_type": "stream",
          "name": "stdout",
          "text": [
            "Epoch 1/20\n",
            "763/763 [==============================] - 143s 187ms/step - loss: 0.9633 - price_loss: 0.8282 - type_loss: 1.0985 - price_sparse_categorical_accuracy: 0.6245 - type_sparse_categorical_accuracy: 0.7515 - val_loss: 0.8579 - val_price_loss: 0.7805 - val_type_loss: 0.9354 - val_price_sparse_categorical_accuracy: 0.6540 - val_type_sparse_categorical_accuracy: 0.7647\n",
            "Epoch 2/20\n",
            "763/763 [==============================] - 142s 186ms/step - loss: 0.8380 - price_loss: 0.7367 - type_loss: 0.9393 - price_sparse_categorical_accuracy: 0.6679 - type_sparse_categorical_accuracy: 0.7543 - val_loss: 0.7930 - val_price_loss: 0.7151 - val_type_loss: 0.8710 - val_price_sparse_categorical_accuracy: 0.6809 - val_type_sparse_categorical_accuracy: 0.7654\n",
            "Epoch 3/20\n",
            "763/763 [==============================] - 142s 187ms/step - loss: 0.7531 - price_loss: 0.6583 - type_loss: 0.8478 - price_sparse_categorical_accuracy: 0.7122 - type_sparse_categorical_accuracy: 0.7577 - val_loss: 0.7646 - val_price_loss: 0.7030 - val_type_loss: 0.8263 - val_price_sparse_categorical_accuracy: 0.6966 - val_type_sparse_categorical_accuracy: 0.7739\n",
            "Epoch 4/20\n",
            "763/763 [==============================] - 142s 185ms/step - loss: 0.6811 - price_loss: 0.5981 - type_loss: 0.7641 - price_sparse_categorical_accuracy: 0.7510 - type_sparse_categorical_accuracy: 0.7774 - val_loss: 0.7464 - val_price_loss: 0.6931 - val_type_loss: 0.7996 - val_price_sparse_categorical_accuracy: 0.6992 - val_type_sparse_categorical_accuracy: 0.7805\n",
            "Epoch 5/20\n",
            "763/763 [==============================] - 145s 190ms/step - loss: 0.6186 - price_loss: 0.5491 - type_loss: 0.6881 - price_sparse_categorical_accuracy: 0.7740 - type_sparse_categorical_accuracy: 0.8004 - val_loss: 0.7372 - val_price_loss: 0.7034 - val_type_loss: 0.7711 - val_price_sparse_categorical_accuracy: 0.7005 - val_type_sparse_categorical_accuracy: 0.7837\n",
            "Epoch 6/20\n",
            "763/763 [==============================] - 144s 188ms/step - loss: 0.5627 - price_loss: 0.5049 - type_loss: 0.6206 - price_sparse_categorical_accuracy: 0.7958 - type_sparse_categorical_accuracy: 0.8194 - val_loss: 0.7382 - val_price_loss: 0.7215 - val_type_loss: 0.7550 - val_price_sparse_categorical_accuracy: 0.6894 - val_type_sparse_categorical_accuracy: 0.7916\n",
            "Epoch 7/20\n",
            "763/763 [==============================] - 142s 186ms/step - loss: 0.5117 - price_loss: 0.4651 - type_loss: 0.5582 - price_sparse_categorical_accuracy: 0.8154 - type_sparse_categorical_accuracy: 0.8392 - val_loss: 0.7367 - val_price_loss: 0.7278 - val_type_loss: 0.7455 - val_price_sparse_categorical_accuracy: 0.6920 - val_type_sparse_categorical_accuracy: 0.7955\n",
            "Epoch 8/20\n",
            "763/763 [==============================] - 141s 185ms/step - loss: 0.4639 - price_loss: 0.4263 - type_loss: 0.5015 - price_sparse_categorical_accuracy: 0.8318 - type_sparse_categorical_accuracy: 0.8605 - val_loss: 0.7540 - val_price_loss: 0.7547 - val_type_loss: 0.7532 - val_price_sparse_categorical_accuracy: 0.6874 - val_type_sparse_categorical_accuracy: 0.7936\n",
            "Epoch 9/20\n",
            "763/763 [==============================] - 142s 186ms/step - loss: 0.4227 - price_loss: 0.3909 - type_loss: 0.4546 - price_sparse_categorical_accuracy: 0.8494 - type_sparse_categorical_accuracy: 0.8735 - val_loss: 0.7638 - val_price_loss: 0.7714 - val_type_loss: 0.7562 - val_price_sparse_categorical_accuracy: 0.6802 - val_type_sparse_categorical_accuracy: 0.7969\n"
          ]
        }
      ],
      "source": [
        "history = model.fit(\n",
        "    x={\n",
        "        'summary': x_train_text_id,\n",
        "        'image': x_train_image\n",
        "    },\n",
        "    y={\n",
        "        'type': y_train_type,\n",
        "        'price': y_train_price,\n",
        "    },\n",
        "    epochs=20,\n",
        "    batch_size=8,\n",
        "    validation_split=0.2,\n",
        "    callbacks=[\n",
        "        tf.keras.callbacks.EarlyStopping(monitor='val_price_loss', patience=5 )\n",
        "    ],\n",
        "    verbose=1\n",
        ")"
      ]
    },
    {
      "cell_type": "markdown",
      "metadata": {
        "id": "reGIBJexlmb6"
      },
      "source": [
        "## Data Preprocessing (Testing)\n",
        "\n",
        "Here we use the trained tokenizer to pre-process the testing set."
      ]
    },
    {
      "cell_type": "code",
      "execution_count": null,
      "metadata": {
        "id": "Jkr8QWWalmb7",
        "colab": {
          "base_uri": "https://localhost:8080/",
          "height": 49,
          "referenced_widgets": [
            "d5218632c42840c98448798bab6b7907",
            "84d78c3db27648d69e483b081f590549",
            "ece2b0316eca4694b1cdf1da83130876",
            "241b91a4de38439f9f2f04b0814b91db",
            "199258ba28a740dca91d3d8c998c5347",
            "c34eb826c6ed4bb7bedf6e0de4ca3665",
            "30a5c2f3b46d416bb30a8c78a202b9b1",
            "0bb6dabe2a3945aa8137c817ea23ab76",
            "d4163ef3a8bf45d2bc2da4b1ea7e09e8",
            "e7b59b48ab704c81bb55a9126bc92a2c",
            "ce105bcc0a9d4c498d9883ea524d4e16"
          ]
        },
        "outputId": "e26bf64f-9d19-49f5-ae7e-b36a5c33931b"
      },
      "outputs": [
        {
          "output_type": "display_data",
          "data": {
            "text/plain": [
              "  0%|          | 0/7360 [00:00<?, ?it/s]"
            ],
            "application/vnd.jupyter.widget-view+json": {
              "version_major": 2,
              "version_minor": 0,
              "model_id": "d5218632c42840c98448798bab6b7907"
            }
          },
          "metadata": {}
        }
      ],
      "source": [
        "# loading images:\n",
        "x_test_image = np.array([load_image(i) for i in tqdm('/content/a4/img_test'+df_test.image)])\n",
        "\n",
        "# loading overview: (force convert some of the non-string cell to string)\n",
        "x_test_text = _preprocess(df_test.summary.astype('str'))"
      ]
    },
    {
      "cell_type": "markdown",
      "metadata": {
        "id": "VWCTidlhVWaB"
      },
      "source": [
        "## Predition\n",
        "\n",
        "We can use the model to predict the testing samples."
      ]
    },
    {
      "cell_type": "code",
      "execution_count": null,
      "metadata": {
        "id": "vd0nrJDeVWaO"
      },
      "outputs": [],
      "source": [
        "# Predition\n",
        "# we can do prediction on training set\n",
        "y_predict = model.predict(\n",
        "    {\n",
        "        'summary': x_test_text,\n",
        "        'image': x_test_image\n",
        "    }\n",
        ")\n",
        "\n",
        "\n",
        "# probabilities\n",
        "price_predicted = y_predict['price']\n",
        "print(price_predicted)\n",
        "\n",
        "# categories\n",
        "price_category_predicted = np.argmax(price_predicted, axis=1)\n",
        "print(price_category_predicted)\n",
        "\n",
        "\n",
        "# probabilities\n",
        "type_predicted = y_predict['type']\n",
        "print(type_predicted)\n",
        "\n",
        "# categories\n",
        "type_category_predicted = np.argmax(type_predicted, axis=1)\n",
        "print(type_category_predicted)"
      ]
    },
    {
      "cell_type": "code",
      "execution_count": null,
      "metadata": {
        "id": "RDWK_eEpVWaQ"
      },
      "outputs": [],
      "source": [
        "# Submission file\n",
        "pd.DataFrame(\n",
        "    {'id': df_test.id,\n",
        "     'price': price_category_predicted}\n",
        ").to_csv('sample_submission_RGB_drp.csv', index=False)"
      ]
    },
    {
      "cell_type": "markdown",
      "metadata": {
        "id": "r5mul8bfmRzT"
      },
      "source": [
        "##Observation 6:\n",
        "\n",
        "It seems like the model worked well with RGB data with testing accuracy of value 0.67364"
      ]
    },
    {
      "cell_type": "markdown",
      "source": [
        "#Conclusion:\n",
        "> The best result was achieved by the first model by using gray scale image and deep learning model of CNN layer beating sequence algorithms. LSTM was the best out of sequence models and GRU and Bidirectional got almost the same accuracy. \n",
        "\n",
        "> I think the reason behind that is that the sequence model were so complicated for the data that they missed up!\n",
        "\n",
        "\n",
        "> Also, using RGB images didn't really make much difference in accuracy, it is almost the same as the best model."
      ],
      "metadata": {
        "id": "qXEC1ScEVuAE"
      }
    },
    {
      "cell_type": "markdown",
      "metadata": {
        "id": "jOOvzm5eonDP"
      },
      "source": [
        "\n",
        "#✔️ Answer the questions below (briefly):\n",
        "\n",
        "🌈Is fully-connected model a good one for sequential data? Why? How about for image data? Is it good? Why?\n",
        "\n",
        "\n",
        "> No, it is not good for both as the number of parameters will increase exponentially which will make the model computationally expensive and it will not be able to keep information from the previous input which is the main idea of sequence models and for images, it will not be able to extract features like convolutional layers and that's why it is only used to combine the upper layer features.\n",
        "\n",
        "\n",
        "🌈What is gradient vanishing and gradient explosion, and how GRU/LSTM tries to mitigate this problem?\n",
        "\n",
        "\n",
        "> In NN's backprobagation function the derivatives will be multiplied. If the derivatives are of large values then the gradient will increase exponentially as we propagate down the model until they eventually explode, that's why it is called exploding gradient. On the other hand, if the derivatives are small then the gradient will decrease exponentially as we propagate through the model until it eventually vanishes, and that's the vanishing gradient problem.\n",
        "\n",
        ">GRU's and LSTMs mitigated this problem by having gatesin their architecture in which these gates can learn which data in a sequence is important to keep or forget. By doing so, it can pass relevant information down the the model of RNNs to make predictions. Almost all state of the art results based on recurrent neural networks are achieved with these two networks. \n",
        "\n",
        "\n",
        "\n",
        "🌈What is multi-objective/multi-task learning? What is multi-modality learning? \n",
        "How do you use them in this assignment?\n",
        "\n",
        "\n",
        "\n",
        "> **Multi-task learning** is an approach in machine learning in which we build one model to predict more than one target variable by specifying the feature and target variables and then the model is able to predict both at the same time instead of buidling 2 separate models. It improves model performance when there are common information to be learned, for example trying to detect animals so that the model is trying to extract the same features.\n",
        "\n",
        "> **Multi-modality** is learning from different sources (Image/Text) to target one or 2 dependent variables.\n",
        "\n",
        "\n",
        "> Multi-modality is achieved as our model is learning from images and text data.\n",
        "If we were to predict both type and price then that's multi-task learning.\n",
        "\n",
        "\n",
        "🌈What is the difference among xgboost, lightgbm and catboost\n",
        "\n",
        "![1_jBxqPlcaq61Q7EFhSMLkkw.jpg](data:image/jpeg;base64,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)\n",
        "\n",
        "> The algorithms differ from each other in the implementation of the boosted trees algorithm and their technical compatibilities and limitations. Before learning, all algorithms create feature-split pairs for all features\n",
        "\n",
        " XGBoost is an implementation of gradient boosted decision trees designed for speed and performance. \n",
        "\n",
        "**XgBoosting**: \n",
        "• Fast – optimized for multi-threading/processing\n",
        "\n",
        "• Doesn't handle categorical feature encoding, must be done manually first.\n",
        "\n",
        "• Additional regularization\n",
        "\n",
        "\n",
        "**Light GBM** is  faster than XGBoost\n",
        "• Lower memory consumption\n",
        "\n",
        "• Can reach even lower bias on a larger dataset\n",
        "\n",
        "• Higher risk of overfitting\n",
        "\n",
        "• Gradient-based One-Side Sampling (GOSS)\n",
        "\n",
        "• Down-sample instances based on the gradient\n",
        "\n",
        "• Happened during split\n",
        "\n",
        "• High gradient -> high bias -> higher chance\n",
        "\n",
        "• Small gradient -> small bias -> lower chance\n",
        "\n",
        "• it selects the samples that are causing more errors to estimate split\n",
        "\n",
        "**CatBoost**\n",
        "\n",
        "• Specifically design for categorical features\n",
        "\n",
        "• A better and flexible approach to automatically encode\n",
        "categorical features\n",
        "\n",
        "• Categorical feature -> numeric feature\n",
        "\n",
        "• Work on GPU\n",
        "\n",
        "\n",
        "**Missing values handling:** Catboost has two modes for processing missing values, “Min” and “Max”. In which when choosing min it is less than all the values, and the opposite with max.\n",
        "In LightGBM and XGBoost missing values are allocated to the side that reduces the loss in each split.\n",
        "\n",
        "\n",
        "**References:**\n",
        "\n",
        "https://machinelearningmastery.com/gentle-introduction-xgboost-applied-machine-learning/\n",
        "\n",
        "https://medium.com/riskified-technology/xgboost-lightgbm-or-catboost-which-boosting-algorithm-should-i-use-e7fda7bb36bc "
      ]
    }
  ],
  "metadata": {
    "colab": {
      "provenance": [],
      "toc_visible": true,
      "include_colab_link": true
    },
    "kernelspec": {
      "display_name": "Python 3",
      "name": "python3"
    },
    "language_info": {
      "name": "python"
    },
    "widgets": {
      "application/vnd.jupyter.widget-state+json": {
        "78cab12dcd0a4866872573c31a4915eb": {
          "model_module": "@jupyter-widgets/controls",
          "model_name": "HBoxModel",
          "model_module_version": "1.5.0",
          "state": {
            "_dom_classes": [],
            "_model_module": "@jupyter-widgets/controls",
            "_model_module_version": "1.5.0",
            "_model_name": "HBoxModel",
            "_view_count": null,
            "_view_module": "@jupyter-widgets/controls",
            "_view_module_version": "1.5.0",
            "_view_name": "HBoxView",
            "box_style": "",
            "children": [
              "IPY_MODEL_677e4f4df70d4d5dbe26a15ac6d760a2",
              "IPY_MODEL_620258d17cc5489382bc487bddf40965",
              "IPY_MODEL_da81116ce020436fa92c5a3d0f195358"
            ],
            "layout": "IPY_MODEL_6334a90ab62d4c06ace25cff8f1efeca"
          }
        },
        "677e4f4df70d4d5dbe26a15ac6d760a2": {
          "model_module": "@jupyter-widgets/controls",
          "model_name": "HTMLModel",
          "model_module_version": "1.5.0",
          "state": {
            "_dom_classes": [],
            "_model_module": "@jupyter-widgets/controls",
            "_model_module_version": "1.5.0",
            "_model_name": "HTMLModel",
            "_view_count": null,
            "_view_module": "@jupyter-widgets/controls",
            "_view_module_version": "1.5.0",
            "_view_name": "HTMLView",
            "description": "",
            "description_tooltip": null,
            "layout": "IPY_MODEL_8e3c349e94cc4cabbf187f37d80bc268",
            "placeholder": "​",
            "style": "IPY_MODEL_8d0bda60f40e41f0aa9469e6346886fb",
            "value": "100%"
          }
        },
        "620258d17cc5489382bc487bddf40965": {
          "model_module": "@jupyter-widgets/controls",
          "model_name": "FloatProgressModel",
          "model_module_version": "1.5.0",
          "state": {
            "_dom_classes": [],
            "_model_module": "@jupyter-widgets/controls",
            "_model_module_version": "1.5.0",
            "_model_name": "FloatProgressModel",
            "_view_count": null,
            "_view_module": "@jupyter-widgets/controls",
            "_view_module_version": "1.5.0",
            "_view_name": "ProgressView",
            "bar_style": "success",
            "description": "",
            "description_tooltip": null,
            "layout": "IPY_MODEL_f5e35c3470c446429fd4f7c460d16e16",
            "max": 7627,
            "min": 0,
            "orientation": "horizontal",
            "style": "IPY_MODEL_15c7d485907c42dd95020ba4485ab2ac",
            "value": 7627
          }
        },
        "da81116ce020436fa92c5a3d0f195358": {
          "model_module": "@jupyter-widgets/controls",
          "model_name": "HTMLModel",
          "model_module_version": "1.5.0",
          "state": {
            "_dom_classes": [],
            "_model_module": "@jupyter-widgets/controls",
            "_model_module_version": "1.5.0",
            "_model_name": "HTMLModel",
            "_view_count": null,
            "_view_module": "@jupyter-widgets/controls",
            "_view_module_version": "1.5.0",
            "_view_name": "HTMLView",
            "description": "",
            "description_tooltip": null,
            "layout": "IPY_MODEL_b6f3503bc19e401fa02d2cbc403c5f54",
            "placeholder": "​",
            "style": "IPY_MODEL_f90f605891d34fc5b819fd3ff40c7c11",
            "value": " 7627/7627 [01:31&lt;00:00, 88.79it/s]"
          }
        },
        "6334a90ab62d4c06ace25cff8f1efeca": {
          "model_module": "@jupyter-widgets/base",
          "model_name": "LayoutModel",
          "model_module_version": "1.2.0",
          "state": {
            "_model_module": "@jupyter-widgets/base",
            "_model_module_version": "1.2.0",
            "_model_name": "LayoutModel",
            "_view_count": null,
            "_view_module": "@jupyter-widgets/base",
            "_view_module_version": "1.2.0",
            "_view_name": "LayoutView",
            "align_content": null,
            "align_items": null,
            "align_self": null,
            "border": null,
            "bottom": null,
            "display": null,
            "flex": null,
            "flex_flow": null,
            "grid_area": null,
            "grid_auto_columns": null,
            "grid_auto_flow": null,
            "grid_auto_rows": null,
            "grid_column": null,
            "grid_gap": null,
            "grid_row": null,
            "grid_template_areas": null,
            "grid_template_columns": null,
            "grid_template_rows": null,
            "height": null,
            "justify_content": null,
            "justify_items": null,
            "left": null,
            "margin": null,
            "max_height": null,
            "max_width": null,
            "min_height": null,
            "min_width": null,
            "object_fit": null,
            "object_position": null,
            "order": null,
            "overflow": null,
            "overflow_x": null,
            "overflow_y": null,
            "padding": null,
            "right": null,
            "top": null,
            "visibility": null,
            "width": null
          }
        },
        "8e3c349e94cc4cabbf187f37d80bc268": {
          "model_module": "@jupyter-widgets/base",
          "model_name": "LayoutModel",
          "model_module_version": "1.2.0",
          "state": {
            "_model_module": "@jupyter-widgets/base",
            "_model_module_version": "1.2.0",
            "_model_name": "LayoutModel",
            "_view_count": null,
            "_view_module": "@jupyter-widgets/base",
            "_view_module_version": "1.2.0",
            "_view_name": "LayoutView",
            "align_content": null,
            "align_items": null,
            "align_self": null,
            "border": null,
            "bottom": null,
            "display": null,
            "flex": null,
            "flex_flow": null,
            "grid_area": null,
            "grid_auto_columns": null,
            "grid_auto_flow": null,
            "grid_auto_rows": null,
            "grid_column": null,
            "grid_gap": null,
            "grid_row": null,
            "grid_template_areas": null,
            "grid_template_columns": null,
            "grid_template_rows": null,
            "height": null,
            "justify_content": null,
            "justify_items": null,
            "left": null,
            "margin": null,
            "max_height": null,
            "max_width": null,
            "min_height": null,
            "min_width": null,
            "object_fit": null,
            "object_position": null,
            "order": null,
            "overflow": null,
            "overflow_x": null,
            "overflow_y": null,
            "padding": null,
            "right": null,
            "top": null,
            "visibility": null,
            "width": null
          }
        },
        "8d0bda60f40e41f0aa9469e6346886fb": {
          "model_module": "@jupyter-widgets/controls",
          "model_name": "DescriptionStyleModel",
          "model_module_version": "1.5.0",
          "state": {
            "_model_module": "@jupyter-widgets/controls",
            "_model_module_version": "1.5.0",
            "_model_name": "DescriptionStyleModel",
            "_view_count": null,
            "_view_module": "@jupyter-widgets/base",
            "_view_module_version": "1.2.0",
            "_view_name": "StyleView",
            "description_width": ""
          }
        },
        "f5e35c3470c446429fd4f7c460d16e16": {
          "model_module": "@jupyter-widgets/base",
          "model_name": "LayoutModel",
          "model_module_version": "1.2.0",
          "state": {
            "_model_module": "@jupyter-widgets/base",
            "_model_module_version": "1.2.0",
            "_model_name": "LayoutModel",
            "_view_count": null,
            "_view_module": "@jupyter-widgets/base",
            "_view_module_version": "1.2.0",
            "_view_name": "LayoutView",
            "align_content": null,
            "align_items": null,
            "align_self": null,
            "border": null,
            "bottom": null,
            "display": null,
            "flex": null,
            "flex_flow": null,
            "grid_area": null,
            "grid_auto_columns": null,
            "grid_auto_flow": null,
            "grid_auto_rows": null,
            "grid_column": null,
            "grid_gap": null,
            "grid_row": null,
            "grid_template_areas": null,
            "grid_template_columns": null,
            "grid_template_rows": null,
            "height": null,
            "justify_content": null,
            "justify_items": null,
            "left": null,
            "margin": null,
            "max_height": null,
            "max_width": null,
            "min_height": null,
            "min_width": null,
            "object_fit": null,
            "object_position": null,
            "order": null,
            "overflow": null,
            "overflow_x": null,
            "overflow_y": null,
            "padding": null,
            "right": null,
            "top": null,
            "visibility": null,
            "width": null
          }
        },
        "15c7d485907c42dd95020ba4485ab2ac": {
          "model_module": "@jupyter-widgets/controls",
          "model_name": "ProgressStyleModel",
          "model_module_version": "1.5.0",
          "state": {
            "_model_module": "@jupyter-widgets/controls",
            "_model_module_version": "1.5.0",
            "_model_name": "ProgressStyleModel",
            "_view_count": null,
            "_view_module": "@jupyter-widgets/base",
            "_view_module_version": "1.2.0",
            "_view_name": "StyleView",
            "bar_color": null,
            "description_width": ""
          }
        },
        "b6f3503bc19e401fa02d2cbc403c5f54": {
          "model_module": "@jupyter-widgets/base",
          "model_name": "LayoutModel",
          "model_module_version": "1.2.0",
          "state": {
            "_model_module": "@jupyter-widgets/base",
            "_model_module_version": "1.2.0",
            "_model_name": "LayoutModel",
            "_view_count": null,
            "_view_module": "@jupyter-widgets/base",
            "_view_module_version": "1.2.0",
            "_view_name": "LayoutView",
            "align_content": null,
            "align_items": null,
            "align_self": null,
            "border": null,
            "bottom": null,
            "display": null,
            "flex": null,
            "flex_flow": null,
            "grid_area": null,
            "grid_auto_columns": null,
            "grid_auto_flow": null,
            "grid_auto_rows": null,
            "grid_column": null,
            "grid_gap": null,
            "grid_row": null,
            "grid_template_areas": null,
            "grid_template_columns": null,
            "grid_template_rows": null,
            "height": null,
            "justify_content": null,
            "justify_items": null,
            "left": null,
            "margin": null,
            "max_height": null,
            "max_width": null,
            "min_height": null,
            "min_width": null,
            "object_fit": null,
            "object_position": null,
            "order": null,
            "overflow": null,
            "overflow_x": null,
            "overflow_y": null,
            "padding": null,
            "right": null,
            "top": null,
            "visibility": null,
            "width": null
          }
        },
        "f90f605891d34fc5b819fd3ff40c7c11": {
          "model_module": "@jupyter-widgets/controls",
          "model_name": "DescriptionStyleModel",
          "model_module_version": "1.5.0",
          "state": {
            "_model_module": "@jupyter-widgets/controls",
            "_model_module_version": "1.5.0",
            "_model_name": "DescriptionStyleModel",
            "_view_count": null,
            "_view_module": "@jupyter-widgets/base",
            "_view_module_version": "1.2.0",
            "_view_name": "StyleView",
            "description_width": ""
          }
        },
        "c6c06aa3378c477d98cc56e0c9724632": {
          "model_module": "@jupyter-widgets/controls",
          "model_name": "HBoxModel",
          "model_module_version": "1.5.0",
          "state": {
            "_dom_classes": [],
            "_model_module": "@jupyter-widgets/controls",
            "_model_module_version": "1.5.0",
            "_model_name": "HBoxModel",
            "_view_count": null,
            "_view_module": "@jupyter-widgets/controls",
            "_view_module_version": "1.5.0",
            "_view_name": "HBoxView",
            "box_style": "",
            "children": [
              "IPY_MODEL_fe201556269c4c7a85c70ab1886c9495",
              "IPY_MODEL_378b4e04c9e743a5a5db99c353e23ad4",
              "IPY_MODEL_908ee1d8377d4287902de7cd7a192c26"
            ],
            "layout": "IPY_MODEL_44399a4b4ae54387a56106d8abd5219c"
          }
        },
        "fe201556269c4c7a85c70ab1886c9495": {
          "model_module": "@jupyter-widgets/controls",
          "model_name": "HTMLModel",
          "model_module_version": "1.5.0",
          "state": {
            "_dom_classes": [],
            "_model_module": "@jupyter-widgets/controls",
            "_model_module_version": "1.5.0",
            "_model_name": "HTMLModel",
            "_view_count": null,
            "_view_module": "@jupyter-widgets/controls",
            "_view_module_version": "1.5.0",
            "_view_name": "HTMLView",
            "description": "",
            "description_tooltip": null,
            "layout": "IPY_MODEL_4f3928cb121a46068e893924a3a0e7d4",
            "placeholder": "​",
            "style": "IPY_MODEL_f4b030873e524fb5a29f057856c4b0b8",
            "value": "100%"
          }
        },
        "378b4e04c9e743a5a5db99c353e23ad4": {
          "model_module": "@jupyter-widgets/controls",
          "model_name": "FloatProgressModel",
          "model_module_version": "1.5.0",
          "state": {
            "_dom_classes": [],
            "_model_module": "@jupyter-widgets/controls",
            "_model_module_version": "1.5.0",
            "_model_name": "FloatProgressModel",
            "_view_count": null,
            "_view_module": "@jupyter-widgets/controls",
            "_view_module_version": "1.5.0",
            "_view_name": "ProgressView",
            "bar_style": "success",
            "description": "",
            "description_tooltip": null,
            "layout": "IPY_MODEL_414a658b55884dea815c78b8b8e179ca",
            "max": 7360,
            "min": 0,
            "orientation": "horizontal",
            "style": "IPY_MODEL_1859628d19c54b4589352ab3303ce3e2",
            "value": 7360
          }
        },
        "908ee1d8377d4287902de7cd7a192c26": {
          "model_module": "@jupyter-widgets/controls",
          "model_name": "HTMLModel",
          "model_module_version": "1.5.0",
          "state": {
            "_dom_classes": [],
            "_model_module": "@jupyter-widgets/controls",
            "_model_module_version": "1.5.0",
            "_model_name": "HTMLModel",
            "_view_count": null,
            "_view_module": "@jupyter-widgets/controls",
            "_view_module_version": "1.5.0",
            "_view_name": "HTMLView",
            "description": "",
            "description_tooltip": null,
            "layout": "IPY_MODEL_37be9f74640140c692aa8ce184728353",
            "placeholder": "​",
            "style": "IPY_MODEL_4ec8c641e9314a698e408fffc887e931",
            "value": " 7360/7360 [00:00&lt;00:00, 23862.97it/s]"
          }
        },
        "44399a4b4ae54387a56106d8abd5219c": {
          "model_module": "@jupyter-widgets/base",
          "model_name": "LayoutModel",
          "model_module_version": "1.2.0",
          "state": {
            "_model_module": "@jupyter-widgets/base",
            "_model_module_version": "1.2.0",
            "_model_name": "LayoutModel",
            "_view_count": null,
            "_view_module": "@jupyter-widgets/base",
            "_view_module_version": "1.2.0",
            "_view_name": "LayoutView",
            "align_content": null,
            "align_items": null,
            "align_self": null,
            "border": null,
            "bottom": null,
            "display": null,
            "flex": null,
            "flex_flow": null,
            "grid_area": null,
            "grid_auto_columns": null,
            "grid_auto_flow": null,
            "grid_auto_rows": null,
            "grid_column": null,
            "grid_gap": null,
            "grid_row": null,
            "grid_template_areas": null,
            "grid_template_columns": null,
            "grid_template_rows": null,
            "height": null,
            "justify_content": null,
            "justify_items": null,
            "left": null,
            "margin": null,
            "max_height": null,
            "max_width": null,
            "min_height": null,
            "min_width": null,
            "object_fit": null,
            "object_position": null,
            "order": null,
            "overflow": null,
            "overflow_x": null,
            "overflow_y": null,
            "padding": null,
            "right": null,
            "top": null,
            "visibility": null,
            "width": null
          }
        },
        "4f3928cb121a46068e893924a3a0e7d4": {
          "model_module": "@jupyter-widgets/base",
          "model_name": "LayoutModel",
          "model_module_version": "1.2.0",
          "state": {
            "_model_module": "@jupyter-widgets/base",
            "_model_module_version": "1.2.0",
            "_model_name": "LayoutModel",
            "_view_count": null,
            "_view_module": "@jupyter-widgets/base",
            "_view_module_version": "1.2.0",
            "_view_name": "LayoutView",
            "align_content": null,
            "align_items": null,
            "align_self": null,
            "border": null,
            "bottom": null,
            "display": null,
            "flex": null,
            "flex_flow": null,
            "grid_area": null,
            "grid_auto_columns": null,
            "grid_auto_flow": null,
            "grid_auto_rows": null,
            "grid_column": null,
            "grid_gap": null,
            "grid_row": null,
            "grid_template_areas": null,
            "grid_template_columns": null,
            "grid_template_rows": null,
            "height": null,
            "justify_content": null,
            "justify_items": null,
            "left": null,
            "margin": null,
            "max_height": null,
            "max_width": null,
            "min_height": null,
            "min_width": null,
            "object_fit": null,
            "object_position": null,
            "order": null,
            "overflow": null,
            "overflow_x": null,
            "overflow_y": null,
            "padding": null,
            "right": null,
            "top": null,
            "visibility": null,
            "width": null
          }
        },
        "f4b030873e524fb5a29f057856c4b0b8": {
          "model_module": "@jupyter-widgets/controls",
          "model_name": "DescriptionStyleModel",
          "model_module_version": "1.5.0",
          "state": {
            "_model_module": "@jupyter-widgets/controls",
            "_model_module_version": "1.5.0",
            "_model_name": "DescriptionStyleModel",
            "_view_count": null,
            "_view_module": "@jupyter-widgets/base",
            "_view_module_version": "1.2.0",
            "_view_name": "StyleView",
            "description_width": ""
          }
        },
        "414a658b55884dea815c78b8b8e179ca": {
          "model_module": "@jupyter-widgets/base",
          "model_name": "LayoutModel",
          "model_module_version": "1.2.0",
          "state": {
            "_model_module": "@jupyter-widgets/base",
            "_model_module_version": "1.2.0",
            "_model_name": "LayoutModel",
            "_view_count": null,
            "_view_module": "@jupyter-widgets/base",
            "_view_module_version": "1.2.0",
            "_view_name": "LayoutView",
            "align_content": null,
            "align_items": null,
            "align_self": null,
            "border": null,
            "bottom": null,
            "display": null,
            "flex": null,
            "flex_flow": null,
            "grid_area": null,
            "grid_auto_columns": null,
            "grid_auto_flow": null,
            "grid_auto_rows": null,
            "grid_column": null,
            "grid_gap": null,
            "grid_row": null,
            "grid_template_areas": null,
            "grid_template_columns": null,
            "grid_template_rows": null,
            "height": null,
            "justify_content": null,
            "justify_items": null,
            "left": null,
            "margin": null,
            "max_height": null,
            "max_width": null,
            "min_height": null,
            "min_width": null,
            "object_fit": null,
            "object_position": null,
            "order": null,
            "overflow": null,
            "overflow_x": null,
            "overflow_y": null,
            "padding": null,
            "right": null,
            "top": null,
            "visibility": null,
            "width": null
          }
        },
        "1859628d19c54b4589352ab3303ce3e2": {
          "model_module": "@jupyter-widgets/controls",
          "model_name": "ProgressStyleModel",
          "model_module_version": "1.5.0",
          "state": {
            "_model_module": "@jupyter-widgets/controls",
            "_model_module_version": "1.5.0",
            "_model_name": "ProgressStyleModel",
            "_view_count": null,
            "_view_module": "@jupyter-widgets/base",
            "_view_module_version": "1.2.0",
            "_view_name": "StyleView",
            "bar_color": null,
            "description_width": ""
          }
        },
        "37be9f74640140c692aa8ce184728353": {
          "model_module": "@jupyter-widgets/base",
          "model_name": "LayoutModel",
          "model_module_version": "1.2.0",
          "state": {
            "_model_module": "@jupyter-widgets/base",
            "_model_module_version": "1.2.0",
            "_model_name": "LayoutModel",
            "_view_count": null,
            "_view_module": "@jupyter-widgets/base",
            "_view_module_version": "1.2.0",
            "_view_name": "LayoutView",
            "align_content": null,
            "align_items": null,
            "align_self": null,
            "border": null,
            "bottom": null,
            "display": null,
            "flex": null,
            "flex_flow": null,
            "grid_area": null,
            "grid_auto_columns": null,
            "grid_auto_flow": null,
            "grid_auto_rows": null,
            "grid_column": null,
            "grid_gap": null,
            "grid_row": null,
            "grid_template_areas": null,
            "grid_template_columns": null,
            "grid_template_rows": null,
            "height": null,
            "justify_content": null,
            "justify_items": null,
            "left": null,
            "margin": null,
            "max_height": null,
            "max_width": null,
            "min_height": null,
            "min_width": null,
            "object_fit": null,
            "object_position": null,
            "order": null,
            "overflow": null,
            "overflow_x": null,
            "overflow_y": null,
            "padding": null,
            "right": null,
            "top": null,
            "visibility": null,
            "width": null
          }
        },
        "4ec8c641e9314a698e408fffc887e931": {
          "model_module": "@jupyter-widgets/controls",
          "model_name": "DescriptionStyleModel",
          "model_module_version": "1.5.0",
          "state": {
            "_model_module": "@jupyter-widgets/controls",
            "_model_module_version": "1.5.0",
            "_model_name": "DescriptionStyleModel",
            "_view_count": null,
            "_view_module": "@jupyter-widgets/base",
            "_view_module_version": "1.2.0",
            "_view_name": "StyleView",
            "description_width": ""
          }
        },
        "647fe2b569e44632a8bb57f872ed3b1e": {
          "model_module": "@jupyter-widgets/controls",
          "model_name": "HBoxModel",
          "model_module_version": "1.5.0",
          "state": {
            "_dom_classes": [],
            "_model_module": "@jupyter-widgets/controls",
            "_model_module_version": "1.5.0",
            "_model_name": "HBoxModel",
            "_view_count": null,
            "_view_module": "@jupyter-widgets/controls",
            "_view_module_version": "1.5.0",
            "_view_name": "HBoxView",
            "box_style": "",
            "children": [
              "IPY_MODEL_901b862fcb2c46cf8bf6ec837cfd4e78",
              "IPY_MODEL_8d3e5559c15f4129bad875f81d0afbce",
              "IPY_MODEL_0aa40d55998c474e98be8379e68af280"
            ],
            "layout": "IPY_MODEL_0e1cabda5db14e11a38a27fff4932f33"
          }
        },
        "901b862fcb2c46cf8bf6ec837cfd4e78": {
          "model_module": "@jupyter-widgets/controls",
          "model_name": "HTMLModel",
          "model_module_version": "1.5.0",
          "state": {
            "_dom_classes": [],
            "_model_module": "@jupyter-widgets/controls",
            "_model_module_version": "1.5.0",
            "_model_name": "HTMLModel",
            "_view_count": null,
            "_view_module": "@jupyter-widgets/controls",
            "_view_module_version": "1.5.0",
            "_view_name": "HTMLView",
            "description": "",
            "description_tooltip": null,
            "layout": "IPY_MODEL_ddf265e07f6a49db9d3ec9e6cfbc2901",
            "placeholder": "​",
            "style": "IPY_MODEL_53f16bb5c7d4430180656a6962198721",
            "value": "100%"
          }
        },
        "8d3e5559c15f4129bad875f81d0afbce": {
          "model_module": "@jupyter-widgets/controls",
          "model_name": "FloatProgressModel",
          "model_module_version": "1.5.0",
          "state": {
            "_dom_classes": [],
            "_model_module": "@jupyter-widgets/controls",
            "_model_module_version": "1.5.0",
            "_model_name": "FloatProgressModel",
            "_view_count": null,
            "_view_module": "@jupyter-widgets/controls",
            "_view_module_version": "1.5.0",
            "_view_name": "ProgressView",
            "bar_style": "success",
            "description": "",
            "description_tooltip": null,
            "layout": "IPY_MODEL_54c3c3be6b914575b5ea23a2e25e7ee5",
            "max": 7627,
            "min": 0,
            "orientation": "horizontal",
            "style": "IPY_MODEL_7440c3c8ffe849d1aa57e7389c91c592",
            "value": 7627
          }
        },
        "0aa40d55998c474e98be8379e68af280": {
          "model_module": "@jupyter-widgets/controls",
          "model_name": "HTMLModel",
          "model_module_version": "1.5.0",
          "state": {
            "_dom_classes": [],
            "_model_module": "@jupyter-widgets/controls",
            "_model_module_version": "1.5.0",
            "_model_name": "HTMLModel",
            "_view_count": null,
            "_view_module": "@jupyter-widgets/controls",
            "_view_module_version": "1.5.0",
            "_view_name": "HTMLView",
            "description": "",
            "description_tooltip": null,
            "layout": "IPY_MODEL_c2fc54d3592942d69246154626b6100d",
            "placeholder": "​",
            "style": "IPY_MODEL_e37d42579af341c3a9e433bdd9beea3c",
            "value": " 7627/7627 [01:03&lt;00:00, 125.16it/s]"
          }
        },
        "0e1cabda5db14e11a38a27fff4932f33": {
          "model_module": "@jupyter-widgets/base",
          "model_name": "LayoutModel",
          "model_module_version": "1.2.0",
          "state": {
            "_model_module": "@jupyter-widgets/base",
            "_model_module_version": "1.2.0",
            "_model_name": "LayoutModel",
            "_view_count": null,
            "_view_module": "@jupyter-widgets/base",
            "_view_module_version": "1.2.0",
            "_view_name": "LayoutView",
            "align_content": null,
            "align_items": null,
            "align_self": null,
            "border": null,
            "bottom": null,
            "display": null,
            "flex": null,
            "flex_flow": null,
            "grid_area": null,
            "grid_auto_columns": null,
            "grid_auto_flow": null,
            "grid_auto_rows": null,
            "grid_column": null,
            "grid_gap": null,
            "grid_row": null,
            "grid_template_areas": null,
            "grid_template_columns": null,
            "grid_template_rows": null,
            "height": null,
            "justify_content": null,
            "justify_items": null,
            "left": null,
            "margin": null,
            "max_height": null,
            "max_width": null,
            "min_height": null,
            "min_width": null,
            "object_fit": null,
            "object_position": null,
            "order": null,
            "overflow": null,
            "overflow_x": null,
            "overflow_y": null,
            "padding": null,
            "right": null,
            "top": null,
            "visibility": null,
            "width": null
          }
        },
        "ddf265e07f6a49db9d3ec9e6cfbc2901": {
          "model_module": "@jupyter-widgets/base",
          "model_name": "LayoutModel",
          "model_module_version": "1.2.0",
          "state": {
            "_model_module": "@jupyter-widgets/base",
            "_model_module_version": "1.2.0",
            "_model_name": "LayoutModel",
            "_view_count": null,
            "_view_module": "@jupyter-widgets/base",
            "_view_module_version": "1.2.0",
            "_view_name": "LayoutView",
            "align_content": null,
            "align_items": null,
            "align_self": null,
            "border": null,
            "bottom": null,
            "display": null,
            "flex": null,
            "flex_flow": null,
            "grid_area": null,
            "grid_auto_columns": null,
            "grid_auto_flow": null,
            "grid_auto_rows": null,
            "grid_column": null,
            "grid_gap": null,
            "grid_row": null,
            "grid_template_areas": null,
            "grid_template_columns": null,
            "grid_template_rows": null,
            "height": null,
            "justify_content": null,
            "justify_items": null,
            "left": null,
            "margin": null,
            "max_height": null,
            "max_width": null,
            "min_height": null,
            "min_width": null,
            "object_fit": null,
            "object_position": null,
            "order": null,
            "overflow": null,
            "overflow_x": null,
            "overflow_y": null,
            "padding": null,
            "right": null,
            "top": null,
            "visibility": null,
            "width": null
          }
        },
        "53f16bb5c7d4430180656a6962198721": {
          "model_module": "@jupyter-widgets/controls",
          "model_name": "DescriptionStyleModel",
          "model_module_version": "1.5.0",
          "state": {
            "_model_module": "@jupyter-widgets/controls",
            "_model_module_version": "1.5.0",
            "_model_name": "DescriptionStyleModel",
            "_view_count": null,
            "_view_module": "@jupyter-widgets/base",
            "_view_module_version": "1.2.0",
            "_view_name": "StyleView",
            "description_width": ""
          }
        },
        "54c3c3be6b914575b5ea23a2e25e7ee5": {
          "model_module": "@jupyter-widgets/base",
          "model_name": "LayoutModel",
          "model_module_version": "1.2.0",
          "state": {
            "_model_module": "@jupyter-widgets/base",
            "_model_module_version": "1.2.0",
            "_model_name": "LayoutModel",
            "_view_count": null,
            "_view_module": "@jupyter-widgets/base",
            "_view_module_version": "1.2.0",
            "_view_name": "LayoutView",
            "align_content": null,
            "align_items": null,
            "align_self": null,
            "border": null,
            "bottom": null,
            "display": null,
            "flex": null,
            "flex_flow": null,
            "grid_area": null,
            "grid_auto_columns": null,
            "grid_auto_flow": null,
            "grid_auto_rows": null,
            "grid_column": null,
            "grid_gap": null,
            "grid_row": null,
            "grid_template_areas": null,
            "grid_template_columns": null,
            "grid_template_rows": null,
            "height": null,
            "justify_content": null,
            "justify_items": null,
            "left": null,
            "margin": null,
            "max_height": null,
            "max_width": null,
            "min_height": null,
            "min_width": null,
            "object_fit": null,
            "object_position": null,
            "order": null,
            "overflow": null,
            "overflow_x": null,
            "overflow_y": null,
            "padding": null,
            "right": null,
            "top": null,
            "visibility": null,
            "width": null
          }
        },
        "7440c3c8ffe849d1aa57e7389c91c592": {
          "model_module": "@jupyter-widgets/controls",
          "model_name": "ProgressStyleModel",
          "model_module_version": "1.5.0",
          "state": {
            "_model_module": "@jupyter-widgets/controls",
            "_model_module_version": "1.5.0",
            "_model_name": "ProgressStyleModel",
            "_view_count": null,
            "_view_module": "@jupyter-widgets/base",
            "_view_module_version": "1.2.0",
            "_view_name": "StyleView",
            "bar_color": null,
            "description_width": ""
          }
        },
        "c2fc54d3592942d69246154626b6100d": {
          "model_module": "@jupyter-widgets/base",
          "model_name": "LayoutModel",
          "model_module_version": "1.2.0",
          "state": {
            "_model_module": "@jupyter-widgets/base",
            "_model_module_version": "1.2.0",
            "_model_name": "LayoutModel",
            "_view_count": null,
            "_view_module": "@jupyter-widgets/base",
            "_view_module_version": "1.2.0",
            "_view_name": "LayoutView",
            "align_content": null,
            "align_items": null,
            "align_self": null,
            "border": null,
            "bottom": null,
            "display": null,
            "flex": null,
            "flex_flow": null,
            "grid_area": null,
            "grid_auto_columns": null,
            "grid_auto_flow": null,
            "grid_auto_rows": null,
            "grid_column": null,
            "grid_gap": null,
            "grid_row": null,
            "grid_template_areas": null,
            "grid_template_columns": null,
            "grid_template_rows": null,
            "height": null,
            "justify_content": null,
            "justify_items": null,
            "left": null,
            "margin": null,
            "max_height": null,
            "max_width": null,
            "min_height": null,
            "min_width": null,
            "object_fit": null,
            "object_position": null,
            "order": null,
            "overflow": null,
            "overflow_x": null,
            "overflow_y": null,
            "padding": null,
            "right": null,
            "top": null,
            "visibility": null,
            "width": null
          }
        },
        "e37d42579af341c3a9e433bdd9beea3c": {
          "model_module": "@jupyter-widgets/controls",
          "model_name": "DescriptionStyleModel",
          "model_module_version": "1.5.0",
          "state": {
            "_model_module": "@jupyter-widgets/controls",
            "_model_module_version": "1.5.0",
            "_model_name": "DescriptionStyleModel",
            "_view_count": null,
            "_view_module": "@jupyter-widgets/base",
            "_view_module_version": "1.2.0",
            "_view_name": "StyleView",
            "description_width": ""
          }
        },
        "d5218632c42840c98448798bab6b7907": {
          "model_module": "@jupyter-widgets/controls",
          "model_name": "HBoxModel",
          "model_module_version": "1.5.0",
          "state": {
            "_dom_classes": [],
            "_model_module": "@jupyter-widgets/controls",
            "_model_module_version": "1.5.0",
            "_model_name": "HBoxModel",
            "_view_count": null,
            "_view_module": "@jupyter-widgets/controls",
            "_view_module_version": "1.5.0",
            "_view_name": "HBoxView",
            "box_style": "",
            "children": [
              "IPY_MODEL_84d78c3db27648d69e483b081f590549",
              "IPY_MODEL_ece2b0316eca4694b1cdf1da83130876",
              "IPY_MODEL_241b91a4de38439f9f2f04b0814b91db"
            ],
            "layout": "IPY_MODEL_199258ba28a740dca91d3d8c998c5347"
          }
        },
        "84d78c3db27648d69e483b081f590549": {
          "model_module": "@jupyter-widgets/controls",
          "model_name": "HTMLModel",
          "model_module_version": "1.5.0",
          "state": {
            "_dom_classes": [],
            "_model_module": "@jupyter-widgets/controls",
            "_model_module_version": "1.5.0",
            "_model_name": "HTMLModel",
            "_view_count": null,
            "_view_module": "@jupyter-widgets/controls",
            "_view_module_version": "1.5.0",
            "_view_name": "HTMLView",
            "description": "",
            "description_tooltip": null,
            "layout": "IPY_MODEL_c34eb826c6ed4bb7bedf6e0de4ca3665",
            "placeholder": "​",
            "style": "IPY_MODEL_30a5c2f3b46d416bb30a8c78a202b9b1",
            "value": "100%"
          }
        },
        "ece2b0316eca4694b1cdf1da83130876": {
          "model_module": "@jupyter-widgets/controls",
          "model_name": "FloatProgressModel",
          "model_module_version": "1.5.0",
          "state": {
            "_dom_classes": [],
            "_model_module": "@jupyter-widgets/controls",
            "_model_module_version": "1.5.0",
            "_model_name": "FloatProgressModel",
            "_view_count": null,
            "_view_module": "@jupyter-widgets/controls",
            "_view_module_version": "1.5.0",
            "_view_name": "ProgressView",
            "bar_style": "success",
            "description": "",
            "description_tooltip": null,
            "layout": "IPY_MODEL_0bb6dabe2a3945aa8137c817ea23ab76",
            "max": 7360,
            "min": 0,
            "orientation": "horizontal",
            "style": "IPY_MODEL_d4163ef3a8bf45d2bc2da4b1ea7e09e8",
            "value": 7360
          }
        },
        "241b91a4de38439f9f2f04b0814b91db": {
          "model_module": "@jupyter-widgets/controls",
          "model_name": "HTMLModel",
          "model_module_version": "1.5.0",
          "state": {
            "_dom_classes": [],
            "_model_module": "@jupyter-widgets/controls",
            "_model_module_version": "1.5.0",
            "_model_name": "HTMLModel",
            "_view_count": null,
            "_view_module": "@jupyter-widgets/controls",
            "_view_module_version": "1.5.0",
            "_view_name": "HTMLView",
            "description": "",
            "description_tooltip": null,
            "layout": "IPY_MODEL_e7b59b48ab704c81bb55a9126bc92a2c",
            "placeholder": "​",
            "style": "IPY_MODEL_ce105bcc0a9d4c498d9883ea524d4e16",
            "value": " 7360/7360 [00:00&lt;00:00, 19934.71it/s]"
          }
        },
        "199258ba28a740dca91d3d8c998c5347": {
          "model_module": "@jupyter-widgets/base",
          "model_name": "LayoutModel",
          "model_module_version": "1.2.0",
          "state": {
            "_model_module": "@jupyter-widgets/base",
            "_model_module_version": "1.2.0",
            "_model_name": "LayoutModel",
            "_view_count": null,
            "_view_module": "@jupyter-widgets/base",
            "_view_module_version": "1.2.0",
            "_view_name": "LayoutView",
            "align_content": null,
            "align_items": null,
            "align_self": null,
            "border": null,
            "bottom": null,
            "display": null,
            "flex": null,
            "flex_flow": null,
            "grid_area": null,
            "grid_auto_columns": null,
            "grid_auto_flow": null,
            "grid_auto_rows": null,
            "grid_column": null,
            "grid_gap": null,
            "grid_row": null,
            "grid_template_areas": null,
            "grid_template_columns": null,
            "grid_template_rows": null,
            "height": null,
            "justify_content": null,
            "justify_items": null,
            "left": null,
            "margin": null,
            "max_height": null,
            "max_width": null,
            "min_height": null,
            "min_width": null,
            "object_fit": null,
            "object_position": null,
            "order": null,
            "overflow": null,
            "overflow_x": null,
            "overflow_y": null,
            "padding": null,
            "right": null,
            "top": null,
            "visibility": null,
            "width": null
          }
        },
        "c34eb826c6ed4bb7bedf6e0de4ca3665": {
          "model_module": "@jupyter-widgets/base",
          "model_name": "LayoutModel",
          "model_module_version": "1.2.0",
          "state": {
            "_model_module": "@jupyter-widgets/base",
            "_model_module_version": "1.2.0",
            "_model_name": "LayoutModel",
            "_view_count": null,
            "_view_module": "@jupyter-widgets/base",
            "_view_module_version": "1.2.0",
            "_view_name": "LayoutView",
            "align_content": null,
            "align_items": null,
            "align_self": null,
            "border": null,
            "bottom": null,
            "display": null,
            "flex": null,
            "flex_flow": null,
            "grid_area": null,
            "grid_auto_columns": null,
            "grid_auto_flow": null,
            "grid_auto_rows": null,
            "grid_column": null,
            "grid_gap": null,
            "grid_row": null,
            "grid_template_areas": null,
            "grid_template_columns": null,
            "grid_template_rows": null,
            "height": null,
            "justify_content": null,
            "justify_items": null,
            "left": null,
            "margin": null,
            "max_height": null,
            "max_width": null,
            "min_height": null,
            "min_width": null,
            "object_fit": null,
            "object_position": null,
            "order": null,
            "overflow": null,
            "overflow_x": null,
            "overflow_y": null,
            "padding": null,
            "right": null,
            "top": null,
            "visibility": null,
            "width": null
          }
        },
        "30a5c2f3b46d416bb30a8c78a202b9b1": {
          "model_module": "@jupyter-widgets/controls",
          "model_name": "DescriptionStyleModel",
          "model_module_version": "1.5.0",
          "state": {
            "_model_module": "@jupyter-widgets/controls",
            "_model_module_version": "1.5.0",
            "_model_name": "DescriptionStyleModel",
            "_view_count": null,
            "_view_module": "@jupyter-widgets/base",
            "_view_module_version": "1.2.0",
            "_view_name": "StyleView",
            "description_width": ""
          }
        },
        "0bb6dabe2a3945aa8137c817ea23ab76": {
          "model_module": "@jupyter-widgets/base",
          "model_name": "LayoutModel",
          "model_module_version": "1.2.0",
          "state": {
            "_model_module": "@jupyter-widgets/base",
            "_model_module_version": "1.2.0",
            "_model_name": "LayoutModel",
            "_view_count": null,
            "_view_module": "@jupyter-widgets/base",
            "_view_module_version": "1.2.0",
            "_view_name": "LayoutView",
            "align_content": null,
            "align_items": null,
            "align_self": null,
            "border": null,
            "bottom": null,
            "display": null,
            "flex": null,
            "flex_flow": null,
            "grid_area": null,
            "grid_auto_columns": null,
            "grid_auto_flow": null,
            "grid_auto_rows": null,
            "grid_column": null,
            "grid_gap": null,
            "grid_row": null,
            "grid_template_areas": null,
            "grid_template_columns": null,
            "grid_template_rows": null,
            "height": null,
            "justify_content": null,
            "justify_items": null,
            "left": null,
            "margin": null,
            "max_height": null,
            "max_width": null,
            "min_height": null,
            "min_width": null,
            "object_fit": null,
            "object_position": null,
            "order": null,
            "overflow": null,
            "overflow_x": null,
            "overflow_y": null,
            "padding": null,
            "right": null,
            "top": null,
            "visibility": null,
            "width": null
          }
        },
        "d4163ef3a8bf45d2bc2da4b1ea7e09e8": {
          "model_module": "@jupyter-widgets/controls",
          "model_name": "ProgressStyleModel",
          "model_module_version": "1.5.0",
          "state": {
            "_model_module": "@jupyter-widgets/controls",
            "_model_module_version": "1.5.0",
            "_model_name": "ProgressStyleModel",
            "_view_count": null,
            "_view_module": "@jupyter-widgets/base",
            "_view_module_version": "1.2.0",
            "_view_name": "StyleView",
            "bar_color": null,
            "description_width": ""
          }
        },
        "e7b59b48ab704c81bb55a9126bc92a2c": {
          "model_module": "@jupyter-widgets/base",
          "model_name": "LayoutModel",
          "model_module_version": "1.2.0",
          "state": {
            "_model_module": "@jupyter-widgets/base",
            "_model_module_version": "1.2.0",
            "_model_name": "LayoutModel",
            "_view_count": null,
            "_view_module": "@jupyter-widgets/base",
            "_view_module_version": "1.2.0",
            "_view_name": "LayoutView",
            "align_content": null,
            "align_items": null,
            "align_self": null,
            "border": null,
            "bottom": null,
            "display": null,
            "flex": null,
            "flex_flow": null,
            "grid_area": null,
            "grid_auto_columns": null,
            "grid_auto_flow": null,
            "grid_auto_rows": null,
            "grid_column": null,
            "grid_gap": null,
            "grid_row": null,
            "grid_template_areas": null,
            "grid_template_columns": null,
            "grid_template_rows": null,
            "height": null,
            "justify_content": null,
            "justify_items": null,
            "left": null,
            "margin": null,
            "max_height": null,
            "max_width": null,
            "min_height": null,
            "min_width": null,
            "object_fit": null,
            "object_position": null,
            "order": null,
            "overflow": null,
            "overflow_x": null,
            "overflow_y": null,
            "padding": null,
            "right": null,
            "top": null,
            "visibility": null,
            "width": null
          }
        },
        "ce105bcc0a9d4c498d9883ea524d4e16": {
          "model_module": "@jupyter-widgets/controls",
          "model_name": "DescriptionStyleModel",
          "model_module_version": "1.5.0",
          "state": {
            "_model_module": "@jupyter-widgets/controls",
            "_model_module_version": "1.5.0",
            "_model_name": "DescriptionStyleModel",
            "_view_count": null,
            "_view_module": "@jupyter-widgets/base",
            "_view_module_version": "1.2.0",
            "_view_name": "StyleView",
            "description_width": ""
          }
        }
      }
    },
    "accelerator": "TPU"
  },
  "nbformat": 4,
  "nbformat_minor": 0
}